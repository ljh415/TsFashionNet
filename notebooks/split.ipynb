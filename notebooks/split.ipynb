{
 "cells": [
  {
   "cell_type": "code",
   "execution_count": 7,
   "id": "fe67a39d-d2c0-4dfe-b532-1e098cdab1dd",
   "metadata": {},
   "outputs": [],
   "source": [
    "import os\n",
    "import pickle\n",
    "import numpy as np\n",
    "import pandas as pd\n",
    "from tqdm import tqdm\n",
    "\n",
    "from sklearn.model_selection import train_test_split\n",
    "from skmultilearn.model_selection import iterative_train_test_split"
   ]
  },
  {
   "cell_type": "code",
   "execution_count": 2,
   "id": "229ca625-f46c-4ad0-9c78-17633a6ae227",
   "metadata": {},
   "outputs": [],
   "source": [
    "data_path = '/media/jaeho/SSD/datasets/deepfashion/preprocessed_data/preprocessed_data.pickle'"
   ]
  },
  {
   "cell_type": "code",
   "execution_count": 3,
   "id": "abf5d9cf-3d07-4d38-b66a-45a547264e28",
   "metadata": {},
   "outputs": [],
   "source": [
    "with open(data_path, 'rb') as f:\n",
    "    data = pickle.load(f)"
   ]
  },
  {
   "cell_type": "code",
   "execution_count": 4,
   "id": "bedab21b-86f5-43b2-a3c2-8acba1e75439",
   "metadata": {},
   "outputs": [],
   "source": [
    "list_data = list(data.items())"
   ]
  },
  {
   "cell_type": "code",
   "execution_count": 6,
   "id": "d373bf56-94e9-4709-81e2-ef50ce0ad976",
   "metadata": {},
   "outputs": [
    {
     "data": {
      "text/plain": [
       "289222"
      ]
     },
     "execution_count": 6,
     "metadata": {},
     "output_type": "execute_result"
    }
   ],
   "source": [
    "len(list_data)"
   ]
  },
  {
   "cell_type": "markdown",
   "id": "2502a381-7520-44b6-8f63-3873d4a21f27",
   "metadata": {},
   "source": [
    "split을 할때 stratify를 줘야할까?  \n",
    "그냥 단순하게 나눠도 괜찮은 걸까?  \n",
    "\n",
    "라벨들의 분포에 따라서 어떤 라벨은 너무 안나오지 않을까  \n",
    "\n",
    "하나의 이미지로 그 이미지에 대한 카테고리와 속성, 그리고 랜드마크에 대한 정보들이 다 들어가야 하는 것이기 때문에 모든 것을 다 만족할 수는 없을 것이고..."
   ]
  },
  {
   "cell_type": "code",
   "execution_count": 8,
   "id": "15dd11f1-8e85-460d-8f34-8f8b830320b2",
   "metadata": {},
   "outputs": [],
   "source": [
    "all_ids = list(data.keys())"
   ]
  },
  {
   "cell_type": "code",
   "execution_count": 9,
   "id": "f265141c-999d-4049-b28f-6751852e1a0a",
   "metadata": {},
   "outputs": [
    {
     "data": {
      "text/plain": [
       "['img/Sheer_Pleated-Front_Blouse/img_00000001.jpg',\n",
       " 'img/Sheer_Pleated-Front_Blouse/img_00000002.jpg']"
      ]
     },
     "execution_count": 9,
     "metadata": {},
     "output_type": "execute_result"
    }
   ],
   "source": [
    "all_ids[:2]"
   ]
  },
  {
   "cell_type": "code",
   "execution_count": 10,
   "id": "d4c1e04e-b278-47eb-aa7a-b0fcae9a706d",
   "metadata": {},
   "outputs": [],
   "source": [
    "valid_ids = np.random.choice(all_ids, 40000, replace=False)"
   ]
  },
  {
   "cell_type": "code",
   "execution_count": 11,
   "id": "df5204f2-7fe0-42ec-8418-c7fdbcadf64c",
   "metadata": {},
   "outputs": [
    {
     "data": {
      "text/plain": [
       "40000"
      ]
     },
     "execution_count": 11,
     "metadata": {},
     "output_type": "execute_result"
    }
   ],
   "source": [
    "len(valid_ids)"
   ]
  },
  {
   "cell_type": "code",
   "execution_count": 13,
   "id": "b4499a08-bc59-4d49-b9a1-1c24dc33de47",
   "metadata": {},
   "outputs": [
    {
     "data": {
      "text/plain": [
       "249222"
      ]
     },
     "execution_count": 13,
     "metadata": {},
     "output_type": "execute_result"
    }
   ],
   "source": [
    "remain_ids = list(set(all_ids) - set(valid_ids))\n",
    "len(remain_ids)"
   ]
  },
  {
   "cell_type": "code",
   "execution_count": 14,
   "id": "807865e9-39ab-433a-afb7-9919e4b8b216",
   "metadata": {},
   "outputs": [
    {
     "data": {
      "text/plain": [
       "40000"
      ]
     },
     "execution_count": 14,
     "metadata": {},
     "output_type": "execute_result"
    }
   ],
   "source": [
    "test_ids = np.random.choice(remain_ids, 40000, replace=False)\n",
    "len(test_ids)"
   ]
  },
  {
   "cell_type": "code",
   "execution_count": 15,
   "id": "6804505c-3122-4357-9cea-2294cb504c7a",
   "metadata": {},
   "outputs": [
    {
     "data": {
      "text/plain": [
       "209222"
      ]
     },
     "execution_count": 15,
     "metadata": {},
     "output_type": "execute_result"
    }
   ],
   "source": [
    "train_ids = list(set(all_ids) - set(valid_ids) - set(test_ids))\n",
    "len(train_ids)"
   ]
  },
  {
   "cell_type": "code",
   "execution_count": 18,
   "id": "5f6de31f-8fd9-47e7-9030-81249ce930fd",
   "metadata": {},
   "outputs": [
    {
     "name": "stderr",
     "output_type": "stream",
     "text": [
      "100%|██████████| 289222/289222 [15:56<00:00, 302.51it/s]\n"
     ]
    }
   ],
   "source": [
    "train_data, valid_data, test_data = {}, {}, {}\n",
    "\n",
    "for data_id, data_info in tqdm(data.items()):\n",
    "    if data_id in train_ids:\n",
    "        train_data[data_id] = data_info\n",
    "    elif data_id in valid_ids:\n",
    "        valid_data[data_id] = data_info\n",
    "    elif data_id in test_ids:\n",
    "        test_data[data_id] = data_info\n",
    "    else:\n",
    "        print('fuck you')"
   ]
  },
  {
   "cell_type": "code",
   "execution_count": 19,
   "id": "da24c7d8-0122-4627-b042-36f4565904bc",
   "metadata": {},
   "outputs": [
    {
     "data": {
      "text/plain": [
       "(209222, 40000, 40000)"
      ]
     },
     "execution_count": 19,
     "metadata": {},
     "output_type": "execute_result"
    }
   ],
   "source": [
    "len(train_data), len(valid_data), len(test_data)"
   ]
  },
  {
   "cell_type": "code",
   "execution_count": 20,
   "id": "ba02b94f-a9b4-401e-9558-c97d626e557c",
   "metadata": {},
   "outputs": [],
   "source": [
    "save_dir = '/media/jaeho/SSD/datasets/deepfashion/split/'"
   ]
  },
  {
   "cell_type": "code",
   "execution_count": 21,
   "id": "1860624b-8790-4bc5-811f-ae4d8aad5b25",
   "metadata": {},
   "outputs": [],
   "source": [
    "with open(os.path.join(save_dir, 'train.pickle'), 'wb') as f:\n",
    "    pickle.dump(train_data, f)"
   ]
  },
  {
   "cell_type": "code",
   "execution_count": 22,
   "id": "7d22fc9b-1b82-4cb6-ab37-3132f65cc0f5",
   "metadata": {},
   "outputs": [],
   "source": [
    "with open(os.path.join(save_dir, 'valid.pickle'), 'wb') as f:\n",
    "    pickle.dump(valid_data, f)\n",
    "with open(os.path.join(save_dir, 'test.pickle'), 'wb') as f:\n",
    "    pickle.dump(test_data, f)"
   ]
  },
  {
   "cell_type": "code",
   "execution_count": null,
   "id": "bb84217d-4eb6-49c3-b47f-accf865d9cc2",
   "metadata": {},
   "outputs": [],
   "source": []
  }
 ],
 "metadata": {
  "kernelspec": {
   "display_name": "torch",
   "language": "python",
   "name": "torch"
  },
  "language_info": {
   "codemirror_mode": {
    "name": "ipython",
    "version": 3
   },
   "file_extension": ".py",
   "mimetype": "text/x-python",
   "name": "python",
   "nbconvert_exporter": "python",
   "pygments_lexer": "ipython3",
   "version": "3.7.10"
  }
 },
 "nbformat": 4,
 "nbformat_minor": 5
}
