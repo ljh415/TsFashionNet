{
 "cells": [
  {
   "cell_type": "code",
   "execution_count": 1,
   "id": "33b4f00f-6b25-467e-8365-9746509642ff",
   "metadata": {},
   "outputs": [],
   "source": [
    "import os\n",
    "import json\n",
    "import pickle"
   ]
  },
  {
   "cell_type": "code",
   "execution_count": 2,
   "id": "a9bda522-7be8-4984-b14c-809199ce3e77",
   "metadata": {},
   "outputs": [],
   "source": [
    "def open_file(path):\n",
    "    if 'pickle' in path:\n",
    "        with open(path, 'rb') as f:\n",
    "            out = pickle.load(f)\n",
    "    elif 'json' in path:\n",
    "        with open(path, 'r') as f:\n",
    "            out = json.load(f)\n",
    "    return out"
   ]
  },
  {
   "cell_type": "code",
   "execution_count": 3,
   "id": "232103c0-c1f3-4388-afd0-38115b57a9ba",
   "metadata": {},
   "outputs": [],
   "source": [
    "attr = open_file('/media/jaeho/SSD/datasets/deepfashion/preprocessed_data/attr_cloth.pickle')"
   ]
  },
  {
   "cell_type": "code",
   "execution_count": 5,
   "id": "9ff715fc-c552-4960-a2c8-47ba00f11d11",
   "metadata": {},
   "outputs": [
    {
     "data": {
      "text/plain": [
       "1000"
      ]
     },
     "execution_count": 5,
     "metadata": {},
     "output_type": "execute_result"
    }
   ],
   "source": [
    "len(attr)"
   ]
  },
  {
   "cell_type": "code",
   "execution_count": 8,
   "id": "0116099a-3d61-480d-bb8c-63f7098e9205",
   "metadata": {},
   "outputs": [],
   "source": [
    "target_img_dir = '/media/jaeho/SSD/datasets/deepfashion/img-001/'\n",
    "data_dir = '/media/jaeho/SSD/datasets/deepfashion/category_and_attribute_prediction/category_and_attribute_prediction_benchmark/Anno_coarse'\n"
   ]
  },
  {
   "cell_type": "code",
   "execution_count": 28,
   "id": "f2470218-08b4-4213-a40b-712f12f6ee75",
   "metadata": {},
   "outputs": [],
   "source": [
    "attr_cloth_path = os.path.join(data_dir, 'list_attr_cloth.txt')\n",
    "category_img_path = os.path.join(data_dir, 'list_category_img.txt')\n"
   ]
  },
  {
   "cell_type": "code",
   "execution_count": 14,
   "id": "1b557725-16ad-4b63-878a-a6595a6efd7e",
   "metadata": {},
   "outputs": [
    {
     "name": "stdout",
     "output_type": "stream",
     "text": [
      "number of attrs:1000\n"
     ]
    }
   ],
   "source": [
    "att_map = {}\n",
    "with open(attr_cloth_path, 'r') as f:\n",
    "    cnt = 0\n",
    "    idx = 0\n",
    "    while True:\n",
    "        line = f.readline()\n",
    "        line = line.replace(\"\\n\", \"\")\n",
    "        if not line : break\n",
    "        if cnt<2 :\n",
    "            if cnt == 0:\n",
    "                print(f\"number of attrs:{line}\")\n",
    "            cnt += 1\n",
    "            continue\n",
    "        splited_line = [x for x in [l.replace(\" \", \"\") for l in line.split(\"  \")] if x != \"\"]\n",
    "        attribute_name, attribute_type = splited_line\n",
    "        \n",
    "        att_map[idx] = attribute_name\n",
    "        idx += 1"
   ]
  },
  {
   "cell_type": "code",
   "execution_count": 13,
   "id": "3bd2ea07-9935-4901-a5db-af7f4e66c062",
   "metadata": {},
   "outputs": [
    {
     "data": {
      "text/plain": [
       "2"
      ]
     },
     "execution_count": 13,
     "metadata": {},
     "output_type": "execute_result"
    }
   ],
   "source": [
    "cnt"
   ]
  },
  {
   "cell_type": "code",
   "execution_count": 16,
   "id": "2de7c445-fe40-4540-bb62-670b32636475",
   "metadata": {},
   "outputs": [
    {
     "data": {
      "text/plain": [
       "1000"
      ]
     },
     "execution_count": 16,
     "metadata": {},
     "output_type": "execute_result"
    }
   ],
   "source": [
    "len(att_map)"
   ]
  },
  {
   "cell_type": "code",
   "execution_count": null,
   "id": "8280e685-4d18-408f-922d-db0bc1306b08",
   "metadata": {},
   "outputs": [],
   "source": []
  },
  {
   "cell_type": "code",
   "execution_count": 17,
   "id": "5d89a2f7-0d74-4e23-85e5-b88aa0d07120",
   "metadata": {},
   "outputs": [],
   "source": [
    "cat = open_file('/media/jaeho/SSD/datasets/deepfashion/preprocessed_data/category_cloth.pickle')"
   ]
  },
  {
   "cell_type": "code",
   "execution_count": 19,
   "id": "5929bbc2-8f94-421f-bd54-47e04ba26952",
   "metadata": {},
   "outputs": [
    {
     "data": {
      "text/plain": [
       "50"
      ]
     },
     "execution_count": 19,
     "metadata": {},
     "output_type": "execute_result"
    }
   ],
   "source": [
    "len(cat)"
   ]
  },
  {
   "cell_type": "code",
   "execution_count": 20,
   "id": "25b021ef-f0d7-4f8f-b255-361af7948206",
   "metadata": {},
   "outputs": [
    {
     "data": {
      "text/plain": [
       "[{'category_name': 'Anorak', 'category_type': 1},\n",
       " {'category_name': 'Blazer', 'category_type': 1},\n",
       " {'category_name': 'Blouse', 'category_type': 1},\n",
       " {'category_name': 'Bomber', 'category_type': 1},\n",
       " {'category_name': 'Button-Down', 'category_type': 1},\n",
       " {'category_name': 'Cardigan', 'category_type': 1},\n",
       " {'category_name': 'Flannel', 'category_type': 1},\n",
       " {'category_name': 'Halter', 'category_type': 1},\n",
       " {'category_name': 'Henley', 'category_type': 1},\n",
       " {'category_name': 'Hoodie', 'category_type': 1},\n",
       " {'category_name': 'Jacket', 'category_type': 1},\n",
       " {'category_name': 'Jersey', 'category_type': 1},\n",
       " {'category_name': 'Parka', 'category_type': 1},\n",
       " {'category_name': 'Peacoat', 'category_type': 1},\n",
       " {'category_name': 'Poncho', 'category_type': 1},\n",
       " {'category_name': 'Sweater', 'category_type': 1},\n",
       " {'category_name': 'Tank', 'category_type': 1},\n",
       " {'category_name': 'Tee', 'category_type': 1},\n",
       " {'category_name': 'Top', 'category_type': 1},\n",
       " {'category_name': 'Turtleneck', 'category_type': 1},\n",
       " {'category_name': 'Capris', 'category_type': 2},\n",
       " {'category_name': 'Chinos', 'category_type': 2},\n",
       " {'category_name': 'Culottes', 'category_type': 2},\n",
       " {'category_name': 'Cutoffs', 'category_type': 2},\n",
       " {'category_name': 'Gauchos', 'category_type': 2},\n",
       " {'category_name': 'Jeans', 'category_type': 2},\n",
       " {'category_name': 'Jeggings', 'category_type': 2},\n",
       " {'category_name': 'Jodhpurs', 'category_type': 2},\n",
       " {'category_name': 'Joggers', 'category_type': 2},\n",
       " {'category_name': 'Leggings', 'category_type': 2},\n",
       " {'category_name': 'Sarong', 'category_type': 2},\n",
       " {'category_name': 'Shorts', 'category_type': 2},\n",
       " {'category_name': 'Skirt', 'category_type': 2},\n",
       " {'category_name': 'Sweatpants', 'category_type': 2},\n",
       " {'category_name': 'Sweatshorts', 'category_type': 2},\n",
       " {'category_name': 'Trunks', 'category_type': 2},\n",
       " {'category_name': 'Caftan', 'category_type': 3},\n",
       " {'category_name': 'Cape', 'category_type': 3},\n",
       " {'category_name': 'Coat', 'category_type': 3},\n",
       " {'category_name': 'Coverup', 'category_type': 3},\n",
       " {'category_name': 'Dress', 'category_type': 3},\n",
       " {'category_name': 'Jumpsuit', 'category_type': 3},\n",
       " {'category_name': 'Kaftan', 'category_type': 3},\n",
       " {'category_name': 'Kimono', 'category_type': 3},\n",
       " {'category_name': 'Nightdress', 'category_type': 3},\n",
       " {'category_name': 'Onesie', 'category_type': 3},\n",
       " {'category_name': 'Robe', 'category_type': 3},\n",
       " {'category_name': 'Romper', 'category_type': 3},\n",
       " {'category_name': 'Shirtdress', 'category_type': 3},\n",
       " {'category_name': 'Sundress', 'category_type': 3}]"
      ]
     },
     "execution_count": 20,
     "metadata": {},
     "output_type": "execute_result"
    }
   ],
   "source": [
    "cat"
   ]
  },
  {
   "cell_type": "code",
   "execution_count": 38,
   "id": "d45b096c-09aa-4ba8-b0ad-3acdf8281425",
   "metadata": {},
   "outputs": [],
   "source": [
    "cat_map = {}\n",
    "for idx, cat_label in enumerate(cat):\n",
    "    cat_map[idx] = cat_label['category_name']"
   ]
  },
  {
   "cell_type": "code",
   "execution_count": 39,
   "id": "ce73030a-e05d-4c1d-85bf-1cbfccbce9ad",
   "metadata": {},
   "outputs": [
    {
     "data": {
      "text/plain": [
       "{0: 'Anorak',\n",
       " 1: 'Blazer',\n",
       " 2: 'Blouse',\n",
       " 3: 'Bomber',\n",
       " 4: 'Button-Down',\n",
       " 5: 'Cardigan',\n",
       " 6: 'Flannel',\n",
       " 7: 'Halter',\n",
       " 8: 'Henley',\n",
       " 9: 'Hoodie',\n",
       " 10: 'Jacket',\n",
       " 11: 'Jersey',\n",
       " 12: 'Parka',\n",
       " 13: 'Peacoat',\n",
       " 14: 'Poncho',\n",
       " 15: 'Sweater',\n",
       " 16: 'Tank',\n",
       " 17: 'Tee',\n",
       " 18: 'Top',\n",
       " 19: 'Turtleneck',\n",
       " 20: 'Capris',\n",
       " 21: 'Chinos',\n",
       " 22: 'Culottes',\n",
       " 23: 'Cutoffs',\n",
       " 24: 'Gauchos',\n",
       " 25: 'Jeans',\n",
       " 26: 'Jeggings',\n",
       " 27: 'Jodhpurs',\n",
       " 28: 'Joggers',\n",
       " 29: 'Leggings',\n",
       " 30: 'Sarong',\n",
       " 31: 'Shorts',\n",
       " 32: 'Skirt',\n",
       " 33: 'Sweatpants',\n",
       " 34: 'Sweatshorts',\n",
       " 35: 'Trunks',\n",
       " 36: 'Caftan',\n",
       " 37: 'Cape',\n",
       " 38: 'Coat',\n",
       " 39: 'Coverup',\n",
       " 40: 'Dress',\n",
       " 41: 'Jumpsuit',\n",
       " 42: 'Kaftan',\n",
       " 43: 'Kimono',\n",
       " 44: 'Nightdress',\n",
       " 45: 'Onesie',\n",
       " 46: 'Robe',\n",
       " 47: 'Romper',\n",
       " 48: 'Shirtdress',\n",
       " 49: 'Sundress'}"
      ]
     },
     "execution_count": 39,
     "metadata": {},
     "output_type": "execute_result"
    }
   ],
   "source": [
    "cat_map"
   ]
  },
  {
   "cell_type": "code",
   "execution_count": 35,
   "id": "e9403cc9-d925-4bbf-922f-7af09dfd8d46",
   "metadata": {},
   "outputs": [],
   "source": [
    "cat_imgs = open_file('/media/jaeho/SSD/datasets/deepfashion/preprocessed_data/category_img.pickle')"
   ]
  },
  {
   "cell_type": "code",
   "execution_count": 36,
   "id": "eb94ce4a-9e97-4b26-8add-f236f042d152",
   "metadata": {},
   "outputs": [
    {
     "data": {
      "text/plain": [
       "289222"
      ]
     },
     "execution_count": 36,
     "metadata": {},
     "output_type": "execute_result"
    }
   ],
   "source": [
    "len(cat_imgs)"
   ]
  },
  {
   "cell_type": "code",
   "execution_count": null,
   "id": "165e496e-3e81-458c-8182-b4ff5a42a27d",
   "metadata": {},
   "outputs": [],
   "source": []
  },
  {
   "cell_type": "code",
   "execution_count": 45,
   "id": "7cc947cd-4e0d-4dc5-a0e6-6106d66fea31",
   "metadata": {},
   "outputs": [],
   "source": [
    "with open('/media/jaeho/SSD/datasets/deepfashion/preprocessed_data/att_map.json', 'w') as f:\n",
    "    json.dump(att_map, f, indent=2)\n",
    "with open('/media/jaeho/SSD/datasets/deepfashion/preprocessed_data/cat_map.json', 'w') as f:\n",
    "    json.dump(cat_map, f, indent=2)"
   ]
  },
  {
   "cell_type": "code",
   "execution_count": null,
   "id": "701ad6be-904d-4e82-8984-2aa530a7b975",
   "metadata": {},
   "outputs": [],
   "source": []
  },
  {
   "cell_type": "code",
   "execution_count": null,
   "id": "56e56ad7-cf0e-4c23-9b97-572e28e77d38",
   "metadata": {},
   "outputs": [],
   "source": []
  },
  {
   "cell_type": "code",
   "execution_count": null,
   "id": "5d9b622a-a0db-479d-aa52-8076a02c9031",
   "metadata": {},
   "outputs": [],
   "source": []
  },
  {
   "cell_type": "code",
   "execution_count": 48,
   "id": "2dd1352f-84ef-4758-baf0-ccead40a4210",
   "metadata": {},
   "outputs": [],
   "source": [
    "import torch\n",
    "import torch.nn as nn"
   ]
  },
  {
   "cell_type": "code",
   "execution_count": 47,
   "id": "400f2850-4429-4b78-a539-3c2ff38d65c2",
   "metadata": {},
   "outputs": [],
   "source": [
    "vgg = torch.hub.load('pytorch/vision:v0.10.0', 'vgg16', pretrained=True, verbose=False)"
   ]
  },
  {
   "cell_type": "code",
   "execution_count": 65,
   "id": "ba481231-3227-49bd-aed5-b0f43a152026",
   "metadata": {},
   "outputs": [],
   "source": [
    "shape_stream = False"
   ]
  },
  {
   "cell_type": "code",
   "execution_count": 66,
   "id": "910056ed-8d88-48fa-badf-3cb8ca44cd4f",
   "metadata": {},
   "outputs": [],
   "source": [
    "tmp_list = []\n",
    "vgg_dict = {}\n",
    "for name, child in vgg._modules['features'].named_children():\n",
    "    if not isinstance(child, nn.MaxPool2d):\n",
    "        tmp_list.append(child)\n",
    "    else :\n",
    "        num = len(vgg_dict) + 1\n",
    "        if num == 5 and shape_stream:\n",
    "            pass\n",
    "        else :\n",
    "            tmp_list.append(child)\n",
    "        \n",
    "        vgg_dict[f\"conv{num}\"] = tmp_list\n",
    "        tmp_list = []\n",
    "if shape_stream:\n",
    "    vgg_dict[f\"conv5_maxpool\"] = [child]\n"
   ]
  },
  {
   "cell_type": "code",
   "execution_count": 67,
   "id": "f74e9a71-4757-4a05-88f3-9b7eeb2e6ea9",
   "metadata": {},
   "outputs": [
    {
     "data": {
      "text/plain": [
       "{'conv1': [Conv2d(3, 64, kernel_size=(3, 3), stride=(1, 1), padding=(1, 1)),\n",
       "  ReLU(inplace=True),\n",
       "  Conv2d(64, 64, kernel_size=(3, 3), stride=(1, 1), padding=(1, 1)),\n",
       "  ReLU(inplace=True),\n",
       "  MaxPool2d(kernel_size=2, stride=2, padding=0, dilation=1, ceil_mode=False)],\n",
       " 'conv2': [Conv2d(64, 128, kernel_size=(3, 3), stride=(1, 1), padding=(1, 1)),\n",
       "  ReLU(inplace=True),\n",
       "  Conv2d(128, 128, kernel_size=(3, 3), stride=(1, 1), padding=(1, 1)),\n",
       "  ReLU(inplace=True),\n",
       "  MaxPool2d(kernel_size=2, stride=2, padding=0, dilation=1, ceil_mode=False)],\n",
       " 'conv3': [Conv2d(128, 256, kernel_size=(3, 3), stride=(1, 1), padding=(1, 1)),\n",
       "  ReLU(inplace=True),\n",
       "  Conv2d(256, 256, kernel_size=(3, 3), stride=(1, 1), padding=(1, 1)),\n",
       "  ReLU(inplace=True),\n",
       "  Conv2d(256, 256, kernel_size=(3, 3), stride=(1, 1), padding=(1, 1)),\n",
       "  ReLU(inplace=True),\n",
       "  MaxPool2d(kernel_size=2, stride=2, padding=0, dilation=1, ceil_mode=False)],\n",
       " 'conv4': [Conv2d(256, 512, kernel_size=(3, 3), stride=(1, 1), padding=(1, 1)),\n",
       "  ReLU(inplace=True),\n",
       "  Conv2d(512, 512, kernel_size=(3, 3), stride=(1, 1), padding=(1, 1)),\n",
       "  ReLU(inplace=True),\n",
       "  Conv2d(512, 512, kernel_size=(3, 3), stride=(1, 1), padding=(1, 1)),\n",
       "  ReLU(inplace=True),\n",
       "  MaxPool2d(kernel_size=2, stride=2, padding=0, dilation=1, ceil_mode=False)],\n",
       " 'conv5': [Conv2d(512, 512, kernel_size=(3, 3), stride=(1, 1), padding=(1, 1)),\n",
       "  ReLU(inplace=True),\n",
       "  Conv2d(512, 512, kernel_size=(3, 3), stride=(1, 1), padding=(1, 1)),\n",
       "  ReLU(inplace=True),\n",
       "  Conv2d(512, 512, kernel_size=(3, 3), stride=(1, 1), padding=(1, 1)),\n",
       "  ReLU(inplace=True),\n",
       "  MaxPool2d(kernel_size=2, stride=2, padding=0, dilation=1, ceil_mode=False)]}"
      ]
     },
     "execution_count": 67,
     "metadata": {},
     "output_type": "execute_result"
    }
   ],
   "source": [
    "vgg_dict"
   ]
  },
  {
   "cell_type": "code",
   "execution_count": null,
   "id": "6f0ba612-a91b-43f4-b0fd-b62b95217ce0",
   "metadata": {},
   "outputs": [],
   "source": []
  }
 ],
 "metadata": {
  "kernelspec": {
   "display_name": "torch",
   "language": "python",
   "name": "torch"
  },
  "language_info": {
   "codemirror_mode": {
    "name": "ipython",
    "version": 3
   },
   "file_extension": ".py",
   "mimetype": "text/x-python",
   "name": "python",
   "nbconvert_exporter": "python",
   "pygments_lexer": "ipython3",
   "version": "3.7.10"
  }
 },
 "nbformat": 4,
 "nbformat_minor": 5
}
