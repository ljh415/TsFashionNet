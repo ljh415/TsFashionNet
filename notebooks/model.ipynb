{
 "cells": [
  {
   "cell_type": "code",
   "execution_count": 2,
   "id": "64e4dcf7-eabf-40bf-a151-79455323a8f6",
   "metadata": {},
   "outputs": [
    {
     "data": {
      "text/plain": [
       "'1.8.2+cu111'"
      ]
     },
     "execution_count": 2,
     "metadata": {},
     "output_type": "execute_result"
    }
   ],
   "source": [
    "import numpy as np\n",
    "\n",
    "import torch\n",
    "import torchvision\n",
    "import torchvision.transforms as transforms\n",
    "\n",
    "import torch.nn as nn\n",
    "import torch.nn.functional as F\n",
    "\n",
    "from torchsummary import summary\n",
    "\n",
    "torch.__version__"
   ]
  },
  {
   "cell_type": "code",
   "execution_count": 5,
   "id": "23b4ffb8-4efd-4390-80d5-23f4cf5d14b6",
   "metadata": {},
   "outputs": [],
   "source": [
    "class VggBackbone(nn.Module):\n",
    "    def __init__(self, init_weight):    \n",
    "        super(VggBackbone, self).__init__()\n",
    "        vgg_dict = self._make_vgg_dict(init_weight)\n",
    "        self.conv1 = nn.Sequential(*vgg_dict['conv1'])\n",
    "        self.conv2 = nn.Sequential(*vgg_dict['conv2'])\n",
    "        self.conv3 = nn.Sequential(*vgg_dict['conv3'])\n",
    "        self.conv4 = nn.Sequential(*vgg_dict['conv4'])\n",
    "        self.conv5 = nn.Sequential(*vgg_dict['conv5'])\n",
    "        if init_weight:\n",
    "            self.conv1.apply(self._init_weight)\n",
    "            self.conv2.apply(self._init_weight)\n",
    "            self.conv3.apply(self._init_weight)\n",
    "            self.conv4.apply(self._init_weight)\n",
    "            self.conv5.apply(self._init_weight)\n",
    "        else :\n",
    "            self.conv5.apply(self._init_weight)\n",
    "    \n",
    "    def forward(self, x):\n",
    "        out = self.conv1(x)      \n",
    "        out = self.conv2(out)\n",
    "        out = self.conv3(out)\n",
    "        out = self.conv4(out)\n",
    "        out = self.conv5(out)\n",
    "        return out\n",
    "    \n",
    "    def _make_vgg_dict(self, shape_stream):\n",
    "        vgg = torch.hub.load('pytorch/vision:v0.10.0', 'vgg16', pretrained=True)\n",
    "        tmp_list = []\n",
    "        vgg_dict = {}\n",
    "        for name, child in vgg._modules['features'].named_children():\n",
    "            if not isinstance(child, nn.MaxPool2d):\n",
    "                tmp_list.append(child)\n",
    "            else :\n",
    "                num = len(vgg_dict)+1\n",
    "                if num == 5 and shape_stream:\n",
    "                    pass\n",
    "                else:\n",
    "                    tmp_list.append(child)\n",
    "                vgg_dict[f\"conv{num}\"] = tmp_list\n",
    "                tmp_list = []\n",
    "        return vgg_dict\n",
    "    \n",
    "    def _init_weight(self, layer):\n",
    "        if isinstance(layer, nn.Conv2d):\n",
    "            torch.nn.init.kaiming_normal_(layer.weight)\n",
    "            torch.nn.init.zeros_(layer.bias)"
   ]
  },
  {
   "cell_type": "code",
   "execution_count": 8,
   "id": "2f12aaf9-fef5-459a-a26c-23b9647f0a47",
   "metadata": {},
   "outputs": [
    {
     "name": "stderr",
     "output_type": "stream",
     "text": [
      "Using cache found in /home/jaeho/.cache/torch/hub/pytorch_vision_v0.10.0\n"
     ]
    }
   ],
   "source": [
    "device = torch.device(\"cuda\" if torch.cuda.is_available() else \"cpu\")\n",
    "vgg_texture = VggBackbone(init_weight=True).to(device)"
   ]
  },
  {
   "cell_type": "code",
   "execution_count": 9,
   "id": "bf6f28a4-430b-474b-ab60-8a39b982d682",
   "metadata": {},
   "outputs": [
    {
     "name": "stdout",
     "output_type": "stream",
     "text": [
      "----------------------------------------------------------------\n",
      "        Layer (type)               Output Shape         Param #\n",
      "================================================================\n",
      "            Conv2d-1         [-1, 64, 224, 224]           1,792\n",
      "              ReLU-2         [-1, 64, 224, 224]               0\n",
      "            Conv2d-3         [-1, 64, 224, 224]          36,928\n",
      "              ReLU-4         [-1, 64, 224, 224]               0\n",
      "         MaxPool2d-5         [-1, 64, 112, 112]               0\n",
      "            Conv2d-6        [-1, 128, 112, 112]          73,856\n",
      "              ReLU-7        [-1, 128, 112, 112]               0\n",
      "            Conv2d-8        [-1, 128, 112, 112]         147,584\n",
      "              ReLU-9        [-1, 128, 112, 112]               0\n",
      "        MaxPool2d-10          [-1, 128, 56, 56]               0\n",
      "           Conv2d-11          [-1, 256, 56, 56]         295,168\n",
      "             ReLU-12          [-1, 256, 56, 56]               0\n",
      "           Conv2d-13          [-1, 256, 56, 56]         590,080\n",
      "             ReLU-14          [-1, 256, 56, 56]               0\n",
      "           Conv2d-15          [-1, 256, 56, 56]         590,080\n",
      "             ReLU-16          [-1, 256, 56, 56]               0\n",
      "        MaxPool2d-17          [-1, 256, 28, 28]               0\n",
      "           Conv2d-18          [-1, 512, 28, 28]       1,180,160\n",
      "             ReLU-19          [-1, 512, 28, 28]               0\n",
      "           Conv2d-20          [-1, 512, 28, 28]       2,359,808\n",
      "             ReLU-21          [-1, 512, 28, 28]               0\n",
      "           Conv2d-22          [-1, 512, 28, 28]       2,359,808\n",
      "             ReLU-23          [-1, 512, 28, 28]               0\n",
      "        MaxPool2d-24          [-1, 512, 14, 14]               0\n",
      "           Conv2d-25          [-1, 512, 14, 14]       2,359,808\n",
      "             ReLU-26          [-1, 512, 14, 14]               0\n",
      "           Conv2d-27          [-1, 512, 14, 14]       2,359,808\n",
      "             ReLU-28          [-1, 512, 14, 14]               0\n",
      "           Conv2d-29          [-1, 512, 14, 14]       2,359,808\n",
      "             ReLU-30          [-1, 512, 14, 14]               0\n",
      "================================================================\n",
      "Total params: 14,714,688\n",
      "Trainable params: 14,714,688\n",
      "Non-trainable params: 0\n",
      "----------------------------------------------------------------\n",
      "Input size (MB): 0.57\n",
      "Forward/backward pass size (MB): 218.20\n",
      "Params size (MB): 56.13\n",
      "Estimated Total Size (MB): 274.91\n",
      "----------------------------------------------------------------\n"
     ]
    }
   ],
   "source": [
    "summary(vgg_texture, (3, 224, 224))"
   ]
  },
  {
   "cell_type": "markdown",
   "id": "5eef369f-26c3-47ab-b36b-f776f05ae65b",
   "metadata": {},
   "source": [
    "---"
   ]
  },
  {
   "cell_type": "code",
   "execution_count": 10,
   "id": "dd07200b-93c4-4630-9f43-92879ee9aadd",
   "metadata": {
    "tags": []
   },
   "outputs": [
    {
     "data": {
      "text/plain": [
       "torch.Size([1, 3, 224, 224])"
      ]
     },
     "execution_count": 10,
     "metadata": {},
     "output_type": "execute_result"
    }
   ],
   "source": [
    "dummy_tensor = torch.rand((3, 224, 224))\n",
    "dummy_tensor = torch.unsqueeze(dummy_tensor, 0)\n",
    "dummy_tensor.shape"
   ]
  },
  {
   "cell_type": "code",
   "execution_count": 15,
   "id": "8cf02e84-3bcc-4375-b950-acb281ac1a97",
   "metadata": {
    "tags": []
   },
   "outputs": [],
   "source": [
    "dummy_tensor = dummy_tensor.to(device)"
   ]
  },
  {
   "cell_type": "code",
   "execution_count": 16,
   "id": "dad56024-799a-4dd7-a752-8c1d11b42bb2",
   "metadata": {},
   "outputs": [],
   "source": [
    "output = vgg_texture(dummy_tensor)"
   ]
  },
  {
   "cell_type": "code",
   "execution_count": 17,
   "id": "a323bc04-ef36-4633-a626-527fb6a80c47",
   "metadata": {},
   "outputs": [
    {
     "data": {
      "text/plain": [
       "torch.Size([1, 512, 14, 14])"
      ]
     },
     "execution_count": 17,
     "metadata": {},
     "output_type": "execute_result"
    }
   ],
   "source": [
    "output.shape"
   ]
  },
  {
   "cell_type": "code",
   "execution_count": null,
   "id": "8cccaed2-babe-4635-82ab-836a6191fafd",
   "metadata": {},
   "outputs": [],
   "source": []
  },
  {
   "cell_type": "code",
   "execution_count": 8,
   "id": "65af53eb-26f2-4ef5-90e7-164da5603515",
   "metadata": {},
   "outputs": [],
   "source": [
    "shape_dummy = torch.rand(output.shape)"
   ]
  },
  {
   "cell_type": "code",
   "execution_count": 9,
   "id": "c37a6600-79c7-4a6a-a25a-9a22509a7d95",
   "metadata": {},
   "outputs": [
    {
     "data": {
      "text/plain": [
       "torch.Size([1, 512, 7, 7])"
      ]
     },
     "execution_count": 9,
     "metadata": {},
     "output_type": "execute_result"
    }
   ],
   "source": [
    "shape_dummy.shape"
   ]
  },
  {
   "cell_type": "code",
   "execution_count": 10,
   "id": "c2fcffa9-da6f-4740-a4c4-3ddc349033fe",
   "metadata": {},
   "outputs": [],
   "source": [
    "concated_tensor = torch.cat((output, shape_dummy), dim=1)"
   ]
  },
  {
   "cell_type": "code",
   "execution_count": 11,
   "id": "f310d4a3-1660-48be-b9e8-71154ab651ee",
   "metadata": {},
   "outputs": [
    {
     "data": {
      "text/plain": [
       "torch.Size([1, 1024, 7, 7])"
      ]
     },
     "execution_count": 11,
     "metadata": {},
     "output_type": "execute_result"
    }
   ],
   "source": [
    "concated_tensor.shape"
   ]
  },
  {
   "cell_type": "code",
   "execution_count": null,
   "id": "3ab42322-9f26-469c-9d12-482225f69f3e",
   "metadata": {},
   "outputs": [],
   "source": []
  },
  {
   "cell_type": "code",
   "execution_count": 12,
   "id": "4bde5658-ef30-4d4b-ab4c-a97de062709a",
   "metadata": {},
   "outputs": [],
   "source": [
    "conv1 = nn.Conv2d(1024, 2048, 3, padding=0)"
   ]
  },
  {
   "cell_type": "code",
   "execution_count": 13,
   "id": "8e487e1d-06c2-4f4f-8698-4efd546ba596",
   "metadata": {},
   "outputs": [
    {
     "data": {
      "text/plain": [
       "torch.Size([1, 2048, 5, 5])"
      ]
     },
     "execution_count": 13,
     "metadata": {},
     "output_type": "execute_result"
    }
   ],
   "source": [
    "out_tensor_1 = conv1(concated_tensor)\n",
    "out_tensor_1.shape"
   ]
  },
  {
   "cell_type": "code",
   "execution_count": 14,
   "id": "0502f360-1543-47f9-8a9e-10a0cd8327d6",
   "metadata": {},
   "outputs": [
    {
     "data": {
      "text/plain": [
       "torch.Size([1, 4096, 5, 5])"
      ]
     },
     "execution_count": 14,
     "metadata": {},
     "output_type": "execute_result"
    }
   ],
   "source": [
    "conv2 = nn.Conv2d(2048, 4096, 3, padding=1)\n",
    "out_tensor_2 = conv2(out_tensor_1)\n",
    "out_tensor_2.shape"
   ]
  },
  {
   "cell_type": "code",
   "execution_count": 15,
   "id": "cebec1f2-4d17-4a10-ae83-d8dcfebba5d8",
   "metadata": {},
   "outputs": [],
   "source": [
    "gap = nn.AdaptiveAvgPool2d((1, 1))"
   ]
  },
  {
   "cell_type": "code",
   "execution_count": 16,
   "id": "89da022a-918a-4635-9aeb-706798be3103",
   "metadata": {},
   "outputs": [
    {
     "data": {
      "text/plain": [
       "torch.Size([4096])"
      ]
     },
     "execution_count": 16,
     "metadata": {},
     "output_type": "execute_result"
    }
   ],
   "source": [
    "after_gap = gap(out_tensor_2)\n",
    "after_gap.squeeze_()\n",
    "after_gap.shape"
   ]
  },
  {
   "cell_type": "code",
   "execution_count": 17,
   "id": "552184de-806a-4b6f-b97b-264670e33ab3",
   "metadata": {
    "tags": []
   },
   "outputs": [
    {
     "data": {
      "text/plain": [
       "tensor([0.0205, 0.0201, 0.0180, 0.0244, 0.0185, 0.0255, 0.0228, 0.0220, 0.0217,\n",
       "        0.0212, 0.0227, 0.0205, 0.0204, 0.0252, 0.0221, 0.0230, 0.0220, 0.0227,\n",
       "        0.0197, 0.0208, 0.0207, 0.0185, 0.0183, 0.0215, 0.0234, 0.0216, 0.0222,\n",
       "        0.0227, 0.0228, 0.0225, 0.0229, 0.0203, 0.0228, 0.0242, 0.0205, 0.0221,\n",
       "        0.0248, 0.0236, 0.0224, 0.0231, 0.0225, 0.0215, 0.0213, 0.0198, 0.0209,\n",
       "        0.0192], grad_fn=<SoftmaxBackward>)"
      ]
     },
     "execution_count": 17,
     "metadata": {},
     "output_type": "execute_result"
    }
   ],
   "source": [
    "clothes_fc = nn.Linear(4096, 46)\n",
    "clothes_activation = nn.Softmax(dim=0)\n",
    "clotehs_out = clothes_activation(clothes_fc(after_gap))\n",
    "clotehs_out"
   ]
  },
  {
   "cell_type": "code",
   "execution_count": 18,
   "id": "f268e6cb-7654-485b-9da6-d31f26b754e8",
   "metadata": {
    "tags": []
   },
   "outputs": [
    {
     "data": {
      "text/plain": [
       "tensor([0.5032, 0.5157, 0.4925, 0.5019, 0.4940, 0.4842, 0.5019, 0.4811, 0.4824,\n",
       "        0.4944, 0.4684, 0.4843, 0.4719, 0.4791, 0.5011, 0.4741, 0.5113, 0.5166,\n",
       "        0.5119, 0.5104, 0.4751, 0.5072, 0.5118, 0.4898, 0.5053, 0.4921, 0.4925,\n",
       "        0.4767, 0.5164, 0.5013, 0.4779, 0.5083, 0.4975, 0.4861, 0.4722, 0.4975,\n",
       "        0.4870, 0.4942, 0.5044, 0.4969, 0.4822, 0.5265, 0.5067, 0.4924, 0.5046,\n",
       "        0.4583, 0.4873, 0.4996, 0.5122, 0.5231, 0.4794, 0.4688, 0.5499, 0.4700,\n",
       "        0.4797, 0.4974, 0.4650, 0.5051, 0.4929, 0.4978, 0.4637, 0.4863, 0.5215,\n",
       "        0.5324, 0.4920, 0.5035, 0.5001, 0.4788, 0.5065, 0.4948, 0.4791, 0.5069,\n",
       "        0.4895, 0.4767, 0.4660, 0.5072, 0.4874, 0.4903, 0.5048, 0.5190, 0.4886,\n",
       "        0.5159, 0.4962, 0.5064, 0.5223, 0.4637, 0.5135, 0.5140, 0.5034, 0.5080,\n",
       "        0.5043, 0.5072, 0.5244, 0.4984, 0.5057, 0.4758, 0.5261, 0.5256, 0.4936,\n",
       "        0.5163, 0.5253, 0.5090, 0.4965, 0.5090, 0.5232, 0.5076, 0.5021, 0.4749,\n",
       "        0.4939, 0.5005, 0.5100, 0.5141, 0.4835, 0.4934, 0.4847, 0.5060, 0.5152,\n",
       "        0.5188, 0.5072, 0.4924, 0.4980, 0.4953, 0.4945, 0.5035, 0.5347, 0.4776,\n",
       "        0.5061, 0.4659, 0.5215, 0.5007, 0.4642, 0.4784, 0.4970, 0.5158, 0.4922,\n",
       "        0.4909, 0.4978, 0.4886, 0.4985, 0.5060, 0.4961, 0.5340, 0.4873, 0.5009,\n",
       "        0.4904, 0.5219, 0.5086, 0.4886, 0.4794, 0.5229, 0.4955, 0.5349, 0.5081,\n",
       "        0.4730, 0.4840, 0.5215, 0.4817, 0.4962, 0.5248, 0.4951, 0.5076, 0.5069,\n",
       "        0.5378, 0.4810, 0.4953, 0.5179, 0.4743, 0.4919, 0.5456, 0.5296, 0.4904,\n",
       "        0.5032, 0.5140, 0.5182, 0.4861, 0.4851, 0.4921, 0.5140, 0.4968, 0.5120,\n",
       "        0.4863, 0.4934, 0.4555, 0.5082, 0.4796, 0.4940, 0.5033, 0.5153, 0.4753,\n",
       "        0.4993, 0.4885, 0.4801, 0.4820, 0.4885, 0.4882, 0.4770, 0.4831, 0.4996,\n",
       "        0.5303, 0.4830, 0.5131, 0.5001, 0.4786, 0.5094, 0.5121, 0.5066, 0.4899,\n",
       "        0.5214, 0.5151, 0.4947, 0.4724, 0.5284, 0.5020, 0.4824, 0.5194, 0.4923,\n",
       "        0.5199, 0.4709, 0.5060, 0.4760, 0.4904, 0.4941, 0.4868, 0.4728, 0.5114,\n",
       "        0.4948, 0.4937, 0.5208, 0.4927, 0.4843, 0.5070, 0.4975, 0.4994, 0.5402,\n",
       "        0.4772, 0.5077, 0.4941, 0.5031, 0.5194, 0.4781, 0.4924, 0.5119, 0.4966,\n",
       "        0.5019, 0.4664, 0.5110, 0.5151, 0.5336, 0.4811, 0.5035, 0.4762, 0.4693,\n",
       "        0.5048, 0.5000, 0.4664, 0.4930, 0.5087, 0.4824, 0.5050, 0.4938, 0.4827,\n",
       "        0.5126, 0.4937, 0.4989, 0.5426, 0.4763, 0.5460, 0.5060, 0.4972, 0.4880,\n",
       "        0.5050, 0.4907, 0.4983, 0.5300, 0.5094, 0.5319, 0.4882, 0.4819, 0.4956,\n",
       "        0.5080, 0.4992, 0.5025, 0.4793, 0.5191, 0.4911, 0.5162, 0.4725, 0.4688,\n",
       "        0.4782, 0.5265, 0.5321, 0.5105, 0.4789, 0.4980, 0.5143, 0.5038, 0.5195,\n",
       "        0.5197, 0.5281, 0.5059, 0.4853, 0.4911, 0.4635, 0.5148, 0.4870, 0.5064,\n",
       "        0.4779, 0.5298, 0.5013, 0.4933, 0.5087, 0.5333, 0.5279, 0.4662, 0.5146,\n",
       "        0.5242, 0.5206, 0.5138, 0.4732, 0.5489, 0.4761, 0.5064, 0.4923, 0.5424,\n",
       "        0.4746, 0.5271, 0.5186, 0.4725, 0.4974, 0.5261, 0.5018, 0.4961, 0.5255,\n",
       "        0.5190, 0.4828, 0.4837, 0.4771, 0.4846, 0.4784, 0.5095, 0.5313, 0.4920,\n",
       "        0.5022, 0.5394, 0.4714, 0.5130, 0.4927, 0.5184, 0.5390, 0.5137, 0.5250,\n",
       "        0.4888, 0.4897, 0.5040, 0.5274, 0.5115, 0.4611, 0.4848, 0.5006, 0.5118,\n",
       "        0.4833, 0.4905, 0.5189, 0.5259, 0.5280, 0.4903, 0.4879, 0.4619, 0.5162,\n",
       "        0.4915, 0.5003, 0.5071, 0.5094, 0.4810, 0.5045, 0.5128, 0.4993, 0.5090,\n",
       "        0.5067, 0.5095, 0.4976, 0.4956, 0.4945, 0.5034, 0.5018, 0.4775, 0.5176,\n",
       "        0.4931, 0.5026, 0.4769, 0.4705, 0.5378, 0.5082, 0.4682, 0.5045, 0.4684,\n",
       "        0.5207, 0.4834, 0.4961, 0.5143, 0.5141, 0.4968, 0.4875, 0.4779, 0.5093,\n",
       "        0.5034, 0.4885, 0.4886, 0.4725, 0.5224, 0.5311, 0.5012, 0.5021, 0.4675,\n",
       "        0.4890, 0.5167, 0.4978, 0.5188, 0.4910, 0.5022, 0.4887, 0.4851, 0.4839,\n",
       "        0.4914, 0.4832, 0.4840, 0.4879, 0.4828, 0.5207, 0.4944, 0.5044, 0.5018,\n",
       "        0.4772, 0.4999, 0.4950, 0.5097, 0.5054, 0.4659, 0.4903, 0.4901, 0.4963,\n",
       "        0.5298, 0.4796, 0.5060, 0.4849, 0.5032, 0.4743, 0.4999, 0.5118, 0.5209,\n",
       "        0.5453, 0.4835, 0.4811, 0.5219, 0.4697, 0.4854, 0.5042, 0.5107, 0.5072,\n",
       "        0.5411, 0.4742, 0.5082, 0.4744, 0.5118, 0.4928, 0.4996, 0.5174, 0.5248,\n",
       "        0.4932, 0.4977, 0.5086, 0.5130, 0.5105, 0.4910, 0.5251, 0.4703, 0.4969,\n",
       "        0.4636, 0.4753, 0.4767, 0.4795, 0.5117, 0.4897, 0.5106, 0.4914, 0.5014,\n",
       "        0.4813, 0.4654, 0.4755, 0.4842, 0.4941, 0.4882, 0.5333, 0.4752, 0.4830,\n",
       "        0.5056, 0.4938, 0.4933, 0.4964, 0.4905, 0.4860, 0.4888, 0.5066, 0.5176,\n",
       "        0.5122, 0.4809, 0.5034, 0.5240, 0.4967, 0.5282, 0.5019, 0.4939, 0.5082,\n",
       "        0.5162, 0.5102, 0.4836, 0.4951, 0.4823, 0.4986, 0.5099, 0.5046, 0.4642,\n",
       "        0.5037, 0.5045, 0.5142, 0.5038, 0.5093, 0.5120, 0.4913, 0.5071, 0.4778,\n",
       "        0.5110, 0.4889, 0.5049, 0.4902, 0.4816, 0.4937, 0.5051, 0.4604, 0.4922,\n",
       "        0.5279, 0.5146, 0.5145, 0.5183, 0.5050, 0.4827, 0.4675, 0.4936, 0.5176,\n",
       "        0.4862, 0.5045, 0.5547, 0.4870, 0.4958, 0.5199, 0.5117, 0.4889, 0.4667,\n",
       "        0.4899, 0.4975, 0.5078, 0.4993, 0.5011, 0.5166, 0.4932, 0.4466, 0.4868,\n",
       "        0.5266, 0.4888, 0.5178, 0.5180, 0.4673, 0.4939, 0.5249, 0.4763, 0.5085,\n",
       "        0.5320, 0.5171, 0.5057, 0.5013, 0.5059, 0.5177, 0.4583, 0.5069, 0.4846,\n",
       "        0.4823, 0.5156, 0.5076, 0.4923, 0.4846, 0.4701, 0.5105, 0.5113, 0.4835,\n",
       "        0.5053, 0.4911, 0.5020, 0.5067, 0.5358, 0.4964, 0.5129, 0.4838, 0.5222,\n",
       "        0.5351, 0.5150, 0.5198, 0.5063, 0.4889, 0.4855, 0.4954, 0.5155, 0.4765,\n",
       "        0.5065, 0.4878, 0.5102, 0.4908, 0.5219, 0.4960, 0.4979, 0.4971, 0.4960,\n",
       "        0.4750, 0.5066, 0.5257, 0.5061, 0.5041, 0.4835, 0.4995, 0.5170, 0.5217,\n",
       "        0.4562, 0.4940, 0.4894, 0.5162, 0.5048, 0.5021, 0.4893, 0.4620, 0.4813,\n",
       "        0.4621, 0.5121, 0.5123, 0.4810, 0.5193, 0.5278, 0.4848, 0.4952, 0.4764,\n",
       "        0.4789, 0.4831, 0.4993, 0.5213, 0.4938, 0.4924, 0.4698, 0.5111, 0.5089,\n",
       "        0.5380, 0.4971, 0.5118, 0.5128, 0.5184, 0.4943, 0.5262, 0.4988, 0.5307,\n",
       "        0.5155, 0.4762, 0.5083, 0.4761, 0.4981, 0.5194, 0.4997, 0.5277, 0.4956,\n",
       "        0.5354, 0.4960, 0.4690, 0.4799, 0.4813, 0.5006, 0.4829, 0.5379, 0.4747,\n",
       "        0.4987, 0.4820, 0.5168, 0.5136, 0.5176, 0.4822, 0.5078, 0.4952, 0.4741,\n",
       "        0.5040, 0.4930, 0.5340, 0.5119, 0.4736, 0.5059, 0.5023, 0.5145, 0.5346,\n",
       "        0.5093, 0.5104, 0.4885, 0.5037, 0.5103, 0.4877, 0.4879, 0.5413, 0.5216,\n",
       "        0.4789, 0.4937, 0.5006, 0.4905, 0.5064, 0.4973, 0.4732, 0.4617, 0.5232,\n",
       "        0.4895, 0.4746, 0.5019, 0.4938, 0.5234, 0.4817, 0.5091, 0.4829, 0.5250,\n",
       "        0.4773, 0.4901, 0.4681, 0.4952, 0.5155, 0.5015, 0.5184, 0.4945, 0.5307,\n",
       "        0.5212, 0.5104, 0.4999, 0.5236, 0.4947, 0.5225, 0.5117, 0.5307, 0.4946,\n",
       "        0.5031, 0.5236, 0.4816, 0.5110, 0.4746, 0.5030, 0.5182, 0.4871, 0.4721,\n",
       "        0.5054, 0.4918, 0.4899, 0.5089, 0.5004, 0.5351, 0.4821, 0.5326, 0.5059,\n",
       "        0.5070, 0.4900, 0.5239, 0.4959, 0.5205, 0.5140, 0.5090, 0.5089, 0.4732,\n",
       "        0.4753, 0.4897, 0.4897, 0.4964, 0.4949, 0.4965, 0.4936, 0.5055, 0.5065,\n",
       "        0.5088, 0.5135, 0.5209, 0.5215, 0.5155, 0.4928, 0.4808, 0.4916, 0.4849,\n",
       "        0.4820, 0.5109, 0.5056, 0.5048, 0.5211, 0.5069, 0.5014, 0.5000, 0.4788,\n",
       "        0.5275, 0.4978, 0.5163, 0.5000, 0.5255, 0.5041, 0.5073, 0.5295, 0.4861,\n",
       "        0.4869, 0.5318, 0.5026, 0.4953, 0.5108, 0.4910, 0.5075, 0.4932, 0.5144,\n",
       "        0.5163, 0.4991, 0.4669, 0.4783, 0.4993, 0.4911, 0.5058, 0.5161, 0.4770,\n",
       "        0.4727, 0.5131, 0.5071, 0.4933, 0.5363, 0.5353, 0.5101, 0.5028, 0.5260,\n",
       "        0.4312, 0.4681, 0.5173, 0.5064, 0.4751, 0.5088, 0.4925, 0.4998, 0.5146,\n",
       "        0.4865, 0.4956, 0.4919, 0.5001, 0.5263, 0.4865, 0.5259, 0.4993, 0.4811,\n",
       "        0.4901, 0.4615, 0.4969, 0.4758, 0.4736, 0.5292, 0.4712, 0.4979, 0.5144,\n",
       "        0.5114, 0.4724, 0.5131, 0.4907, 0.4874, 0.5153, 0.4833, 0.5071, 0.4936,\n",
       "        0.4802, 0.4911, 0.5005, 0.4913, 0.4620, 0.4886, 0.5089, 0.4855, 0.5200,\n",
       "        0.4985, 0.5054, 0.5181, 0.4999, 0.5002, 0.4998, 0.4928, 0.4938, 0.4931,\n",
       "        0.5279, 0.4866, 0.5002, 0.4771, 0.4874, 0.4836, 0.5423, 0.5014, 0.5104,\n",
       "        0.5047, 0.5055, 0.4823, 0.4949, 0.4978, 0.5187, 0.4722, 0.5026, 0.4959,\n",
       "        0.5084, 0.5275, 0.4934, 0.4784, 0.5416, 0.5192, 0.5263, 0.5390, 0.4919,\n",
       "        0.5050, 0.5007, 0.5068, 0.4766, 0.4937, 0.5037, 0.4720, 0.4889, 0.4888,\n",
       "        0.5220, 0.4825, 0.5130, 0.4896, 0.4966, 0.5086, 0.4839, 0.5038, 0.4779,\n",
       "        0.5173, 0.5098, 0.4702, 0.4846, 0.5321, 0.4959, 0.5010, 0.5300, 0.5312,\n",
       "        0.4801, 0.4913, 0.4841, 0.5097, 0.4977, 0.4523, 0.5019, 0.5565, 0.5156,\n",
       "        0.5304, 0.5187, 0.4944, 0.4834, 0.4701, 0.4946, 0.5171, 0.5122, 0.4840,\n",
       "        0.5161, 0.4957, 0.4853, 0.4858, 0.5054, 0.5392, 0.5147, 0.5232, 0.4895,\n",
       "        0.4788, 0.5171, 0.4860, 0.4960, 0.5145, 0.4982, 0.4712, 0.5040, 0.5116,\n",
       "        0.5075, 0.5189, 0.4847, 0.5213, 0.5027, 0.5051, 0.5199, 0.4904, 0.5037,\n",
       "        0.4754, 0.5013, 0.4778, 0.4939, 0.5013, 0.5039, 0.5447, 0.5054, 0.4994,\n",
       "        0.4993], grad_fn=<SigmoidBackward>)"
      ]
     },
     "execution_count": 18,
     "metadata": {},
     "output_type": "execute_result"
    }
   ],
   "source": [
    "att_fc = nn.Linear(4096, 1000)\n",
    "att_activation = nn.Sigmoid()\n",
    "att_out = att_activation(att_fc(after_gap))\n",
    "att_out"
   ]
  },
  {
   "cell_type": "code",
   "execution_count": null,
   "id": "c6e0f58c-7ca8-412b-8d49-74b5ccf47046",
   "metadata": {},
   "outputs": [],
   "source": []
  },
  {
   "cell_type": "markdown",
   "id": "236103ae-b472-4b63-881b-8656008bc32a",
   "metadata": {},
   "source": [
    "---"
   ]
  },
  {
   "cell_type": "markdown",
   "id": "73354b04-9d09-49ef-bb8a-8a2cd13a08a8",
   "metadata": {},
   "source": [
    "앞에서 다 tensor를 넣으면서 다 확인..\n",
    "위에서 만든애들을 이제 묶어서 사용"
   ]
  },
  {
   "cell_type": "code",
   "execution_count": 43,
   "id": "345a5d73-1430-4916-b6c5-69d34fcec47c",
   "metadata": {},
   "outputs": [],
   "source": [
    "class TextureBiasedStream(nn.Module):\n",
    "    def __init__(self):\n",
    "        super(TextureBiasedStream, self).__init__()\n",
    "        self.vgg_texture = VggBackbone(init_weight=False)\n",
    "        # concat\n",
    "        self.texture_stream = nn.Sequential(\n",
    "            nn.Conv2d(1024, 2048, 3, padding=0),\n",
    "            nn.Conv2d(2048, 4096, 3, padding=1),\n",
    "            nn.Dropout(0.5),\n",
    "            nn.AdaptiveAvgPool2d((1, 1))\n",
    "        )\n",
    "\n",
    "        self.clothes_classification = nn.Sequential(\n",
    "            nn.Linear(4096, 46),\n",
    "            # nn.Softmax(dim=0)\n",
    "        )\n",
    "        self.attributes_recognition = nn.Sequential(\n",
    "            nn.Linear(4096, 1000),\n",
    "            # nn.Sigmoid()\n",
    "        )\n",
    "    \n",
    "    def forward(self, x, shape_feature):\n",
    "        out = self.vgg_texture(x)\n",
    "        out = torch.cat((out, shape_feature), dim=1)\n",
    "        out = self.texture_stream(out)\n",
    "        out = torch.squeeze(out)\n",
    "        \n",
    "        clothes_out = self.clothes_classification(out)\n",
    "        clothes_out = torch.softmax(clothes_out, dim=0)\n",
    "        \n",
    "        attr_out = self.attributes_recognition(out)\n",
    "        attr_out = torch.sigmoid(attr_out)\n",
    "        return clothes_out, attr_out"
   ]
  },
  {
   "cell_type": "code",
   "execution_count": 37,
   "id": "18ef1768-a441-4d0e-9974-7b736618f3c2",
   "metadata": {},
   "outputs": [],
   "source": [
    "# device"
   ]
  },
  {
   "cell_type": "code",
   "execution_count": 38,
   "id": "90dbf1c8-8a2a-4011-b87f-6a5512ba1710",
   "metadata": {},
   "outputs": [
    {
     "name": "stderr",
     "output_type": "stream",
     "text": [
      "Using cache found in /home/jaeho/.cache/torch/hub/pytorch_vision_v0.10.0\n"
     ]
    }
   ],
   "source": [
    "texture_stream = TextureBiasedStream().to(device)"
   ]
  },
  {
   "cell_type": "code",
   "execution_count": 39,
   "id": "174e53a1-bc11-4799-a782-ca0d47a2d809",
   "metadata": {},
   "outputs": [
    {
     "data": {
      "text/plain": [
       "TextureBiasedStream(\n",
       "  (vgg_texture): VggBackbone(\n",
       "    (conv1): Sequential(\n",
       "      (0): Conv2d(3, 64, kernel_size=(3, 3), stride=(1, 1), padding=(1, 1))\n",
       "      (1): ReLU(inplace=True)\n",
       "      (2): Conv2d(64, 64, kernel_size=(3, 3), stride=(1, 1), padding=(1, 1))\n",
       "      (3): ReLU(inplace=True)\n",
       "      (4): MaxPool2d(kernel_size=2, stride=2, padding=0, dilation=1, ceil_mode=False)\n",
       "    )\n",
       "    (conv2): Sequential(\n",
       "      (0): Conv2d(64, 128, kernel_size=(3, 3), stride=(1, 1), padding=(1, 1))\n",
       "      (1): ReLU(inplace=True)\n",
       "      (2): Conv2d(128, 128, kernel_size=(3, 3), stride=(1, 1), padding=(1, 1))\n",
       "      (3): ReLU(inplace=True)\n",
       "      (4): MaxPool2d(kernel_size=2, stride=2, padding=0, dilation=1, ceil_mode=False)\n",
       "    )\n",
       "    (conv3): Sequential(\n",
       "      (0): Conv2d(128, 256, kernel_size=(3, 3), stride=(1, 1), padding=(1, 1))\n",
       "      (1): ReLU(inplace=True)\n",
       "      (2): Conv2d(256, 256, kernel_size=(3, 3), stride=(1, 1), padding=(1, 1))\n",
       "      (3): ReLU(inplace=True)\n",
       "      (4): Conv2d(256, 256, kernel_size=(3, 3), stride=(1, 1), padding=(1, 1))\n",
       "      (5): ReLU(inplace=True)\n",
       "      (6): MaxPool2d(kernel_size=2, stride=2, padding=0, dilation=1, ceil_mode=False)\n",
       "    )\n",
       "    (conv4): Sequential(\n",
       "      (0): Conv2d(256, 512, kernel_size=(3, 3), stride=(1, 1), padding=(1, 1))\n",
       "      (1): ReLU(inplace=True)\n",
       "      (2): Conv2d(512, 512, kernel_size=(3, 3), stride=(1, 1), padding=(1, 1))\n",
       "      (3): ReLU(inplace=True)\n",
       "      (4): Conv2d(512, 512, kernel_size=(3, 3), stride=(1, 1), padding=(1, 1))\n",
       "      (5): ReLU(inplace=True)\n",
       "      (6): MaxPool2d(kernel_size=2, stride=2, padding=0, dilation=1, ceil_mode=False)\n",
       "    )\n",
       "    (conv5): Sequential(\n",
       "      (0): Conv2d(512, 512, kernel_size=(3, 3), stride=(1, 1), padding=(1, 1))\n",
       "      (1): ReLU(inplace=True)\n",
       "      (2): Conv2d(512, 512, kernel_size=(3, 3), stride=(1, 1), padding=(1, 1))\n",
       "      (3): ReLU(inplace=True)\n",
       "      (4): Conv2d(512, 512, kernel_size=(3, 3), stride=(1, 1), padding=(1, 1))\n",
       "      (5): ReLU(inplace=True)\n",
       "      (6): MaxPool2d(kernel_size=2, stride=2, padding=0, dilation=1, ceil_mode=False)\n",
       "    )\n",
       "  )\n",
       "  (texture_stream): Sequential(\n",
       "    (0): Conv2d(1024, 2048, kernel_size=(3, 3), stride=(1, 1))\n",
       "    (1): Conv2d(2048, 4096, kernel_size=(3, 3), stride=(1, 1), padding=(1, 1))\n",
       "    (2): Dropout(p=0.5, inplace=False)\n",
       "    (3): AdaptiveAvgPool2d(output_size=(1, 1))\n",
       "  )\n",
       "  (clothes_classification): Sequential(\n",
       "    (0): Linear(in_features=4096, out_features=46, bias=True)\n",
       "  )\n",
       "  (attributes_recognition): Sequential(\n",
       "    (0): Linear(in_features=4096, out_features=10000, bias=True)\n",
       "  )\n",
       ")"
      ]
     },
     "execution_count": 39,
     "metadata": {},
     "output_type": "execute_result"
    }
   ],
   "source": [
    "texture_stream"
   ]
  },
  {
   "cell_type": "code",
   "execution_count": 40,
   "id": "0faa1e22-d3ca-4532-8e48-b47a23a4a50a",
   "metadata": {
    "tags": []
   },
   "outputs": [
    {
     "name": "stdout",
     "output_type": "stream",
     "text": [
      "----------------------------------------------------------------\n",
      "        Layer (type)               Output Shape         Param #\n",
      "================================================================\n",
      "            Conv2d-1         [-1, 64, 224, 224]           1,792\n",
      "              ReLU-2         [-1, 64, 224, 224]               0\n",
      "            Conv2d-3         [-1, 64, 224, 224]          36,928\n",
      "              ReLU-4         [-1, 64, 224, 224]               0\n",
      "         MaxPool2d-5         [-1, 64, 112, 112]               0\n",
      "            Conv2d-6        [-1, 128, 112, 112]          73,856\n",
      "              ReLU-7        [-1, 128, 112, 112]               0\n",
      "            Conv2d-8        [-1, 128, 112, 112]         147,584\n",
      "              ReLU-9        [-1, 128, 112, 112]               0\n",
      "        MaxPool2d-10          [-1, 128, 56, 56]               0\n",
      "           Conv2d-11          [-1, 256, 56, 56]         295,168\n",
      "             ReLU-12          [-1, 256, 56, 56]               0\n",
      "           Conv2d-13          [-1, 256, 56, 56]         590,080\n",
      "             ReLU-14          [-1, 256, 56, 56]               0\n",
      "           Conv2d-15          [-1, 256, 56, 56]         590,080\n",
      "             ReLU-16          [-1, 256, 56, 56]               0\n",
      "        MaxPool2d-17          [-1, 256, 28, 28]               0\n",
      "           Conv2d-18          [-1, 512, 28, 28]       1,180,160\n",
      "             ReLU-19          [-1, 512, 28, 28]               0\n",
      "           Conv2d-20          [-1, 512, 28, 28]       2,359,808\n",
      "             ReLU-21          [-1, 512, 28, 28]               0\n",
      "           Conv2d-22          [-1, 512, 28, 28]       2,359,808\n",
      "             ReLU-23          [-1, 512, 28, 28]               0\n",
      "        MaxPool2d-24          [-1, 512, 14, 14]               0\n",
      "           Conv2d-25          [-1, 512, 14, 14]       2,359,808\n",
      "             ReLU-26          [-1, 512, 14, 14]               0\n",
      "           Conv2d-27          [-1, 512, 14, 14]       2,359,808\n",
      "             ReLU-28          [-1, 512, 14, 14]               0\n",
      "           Conv2d-29          [-1, 512, 14, 14]       2,359,808\n",
      "             ReLU-30          [-1, 512, 14, 14]               0\n",
      "        MaxPool2d-31            [-1, 512, 7, 7]               0\n",
      "      VggBackbone-32            [-1, 512, 7, 7]               0\n",
      "           Conv2d-33           [-1, 2048, 5, 5]      18,876,416\n",
      "           Conv2d-34           [-1, 4096, 5, 5]      75,501,568\n",
      "          Dropout-35           [-1, 4096, 5, 5]               0\n",
      "AdaptiveAvgPool2d-36           [-1, 4096, 1, 1]               0\n",
      "           Linear-37                   [-1, 46]         188,462\n",
      "           Linear-38                [-1, 10000]      40,970,000\n",
      "================================================================\n",
      "Total params: 150,251,134\n",
      "Trainable params: 150,251,134\n",
      "Non-trainable params: 0\n",
      "----------------------------------------------------------------\n",
      "Input size (MB): 14406.00\n",
      "Forward/backward pass size (MB): 220.65\n",
      "Params size (MB): 573.16\n",
      "Estimated Total Size (MB): 15199.81\n",
      "----------------------------------------------------------------\n"
     ]
    }
   ],
   "source": [
    "summary(texture_stream, [(3, 224, 224), (512, 7, 7)])"
   ]
  },
  {
   "cell_type": "code",
   "execution_count": null,
   "id": "9701ec7b-d994-4601-990d-218f092c4d01",
   "metadata": {},
   "outputs": [],
   "source": []
  },
  {
   "cell_type": "markdown",
   "id": "0af3c6c4-92c8-416c-91fc-c8d7c794edc5",
   "metadata": {},
   "source": [
    "### shape biased stream\n"
   ]
  },
  {
   "cell_type": "code",
   "execution_count": 41,
   "id": "78354a52-55a8-415c-94ca-5739deeb01cb",
   "metadata": {},
   "outputs": [],
   "source": [
    "dummy_input = torch.rand((1, 512, 7, 7))"
   ]
  },
  {
   "cell_type": "code",
   "execution_count": 42,
   "id": "471d957a-caee-4d75-bbca-e184035ab865",
   "metadata": {},
   "outputs": [],
   "source": [
    "conv1 = nn.Conv2d(512, 256, 1)\n",
    "conv2 = nn.Conv2d(256, 128, 3)\n",
    "conv3 = nn.Conv2d(128, 256, 1)"
   ]
  },
  {
   "cell_type": "code",
   "execution_count": 44,
   "id": "a8789d35-53f0-46a4-93e8-66459c980403",
   "metadata": {},
   "outputs": [
    {
     "data": {
      "text/plain": [
       "torch.Size([1, 256, 7, 7])"
      ]
     },
     "execution_count": 44,
     "metadata": {},
     "output_type": "execute_result"
    }
   ],
   "source": [
    "out = conv1(dummy_input)\n",
    "out.shape"
   ]
  },
  {
   "cell_type": "code",
   "execution_count": 45,
   "id": "438ce9c1-df4f-4c2b-b2ec-568645f06d93",
   "metadata": {},
   "outputs": [
    {
     "data": {
      "text/plain": [
       "torch.Size([1, 128, 5, 5])"
      ]
     },
     "execution_count": 45,
     "metadata": {},
     "output_type": "execute_result"
    }
   ],
   "source": [
    "out = conv2(out)\n",
    "out.shape"
   ]
  },
  {
   "cell_type": "code",
   "execution_count": 46,
   "id": "7c2504ff-a35d-453f-9b50-6713e5d09d4b",
   "metadata": {},
   "outputs": [
    {
     "data": {
      "text/plain": [
       "torch.Size([1, 256, 5, 5])"
      ]
     },
     "execution_count": 46,
     "metadata": {},
     "output_type": "execute_result"
    }
   ],
   "source": [
    "out = conv3(out)\n",
    "out.shape"
   ]
  },
  {
   "cell_type": "code",
   "execution_count": 55,
   "id": "3fcfbeb6-98ea-4f9f-808d-a89b7ee870c9",
   "metadata": {},
   "outputs": [],
   "source": [
    "# landmark\n",
    "# flatten? GAP?\n",
    "landmark_flatten = nn.AdaptiveAvgPool2d((1, 1))\n",
    "# landmark_fc = nn.Linear()"
   ]
  },
  {
   "cell_type": "code",
   "execution_count": 56,
   "id": "e7eb96e4-49dc-4ed3-a8f6-e121d5461446",
   "metadata": {},
   "outputs": [
    {
     "data": {
      "text/plain": [
       "torch.Size([1, 256, 1, 1])"
      ]
     },
     "execution_count": 56,
     "metadata": {},
     "output_type": "execute_result"
    }
   ],
   "source": [
    "landmark_out = landmark_flatten(out)\n",
    "landmark_out.shape"
   ]
  },
  {
   "cell_type": "code",
   "execution_count": 57,
   "id": "50b09070-af17-405b-95b1-5e1d646bfc8e",
   "metadata": {},
   "outputs": [
    {
     "data": {
      "text/plain": [
       "torch.Size([256])"
      ]
     },
     "execution_count": 57,
     "metadata": {},
     "output_type": "execute_result"
    }
   ],
   "source": [
    "landmark_out.squeeze_()\n",
    "landmark_out.shape"
   ]
  },
  {
   "cell_type": "code",
   "execution_count": 58,
   "id": "b577bb5f-3216-410d-acfa-57e905346168",
   "metadata": {},
   "outputs": [],
   "source": [
    "landmark_fc = nn.Linear(256, 8)\n",
    "landmark_activation = nn.Sigmoid()"
   ]
  },
  {
   "cell_type": "code",
   "execution_count": 59,
   "id": "2d15c3ce-da44-4ba3-ad6c-d88b5c47672a",
   "metadata": {},
   "outputs": [
    {
     "data": {
      "text/plain": [
       "torch.Size([8])"
      ]
     },
     "execution_count": 59,
     "metadata": {},
     "output_type": "execute_result"
    }
   ],
   "source": [
    "landmark_out = landmark_fc(landmark_out)\n",
    "landmark_out = landmark_activation(landmark_out)\n",
    "landmark_out.shape"
   ]
  },
  {
   "cell_type": "code",
   "execution_count": 60,
   "id": "cf6fcf22-2abf-4a38-9303-ec3f17c28c38",
   "metadata": {},
   "outputs": [
    {
     "data": {
      "text/plain": [
       "tensor([0.4945, 0.5449, 0.4847, 0.4928, 0.4681, 0.4661, 0.5401, 0.5032],\n",
       "       grad_fn=<SigmoidBackward>)"
      ]
     },
     "execution_count": 60,
     "metadata": {},
     "output_type": "execute_result"
    }
   ],
   "source": [
    "landmark_out"
   ]
  },
  {
   "cell_type": "code",
   "execution_count": 61,
   "id": "5f920cf2-c90d-43e8-87fd-95f9af27b3f7",
   "metadata": {},
   "outputs": [
    {
     "data": {
      "text/plain": [
       "torch.Size([1, 256, 5, 5])"
      ]
     },
     "execution_count": 61,
     "metadata": {},
     "output_type": "execute_result"
    }
   ],
   "source": [
    "# landmark location\n",
    "out.shape"
   ]
  },
  {
   "cell_type": "code",
   "execution_count": 62,
   "id": "dc467bec-211c-453a-bc61-6ef645216498",
   "metadata": {},
   "outputs": [],
   "source": [
    "location_conv1 = nn.ConvTranspose2d(256, 256, 4, stride=2)"
   ]
  },
  {
   "cell_type": "code",
   "execution_count": 63,
   "id": "2a347e8b-8a19-4e40-8792-59399ac8cec9",
   "metadata": {},
   "outputs": [
    {
     "data": {
      "text/plain": [
       "torch.Size([1, 256, 12, 12])"
      ]
     },
     "execution_count": 63,
     "metadata": {},
     "output_type": "execute_result"
    }
   ],
   "source": [
    "location_out = location_conv1(out)\n",
    "location_out.shape"
   ]
  },
  {
   "cell_type": "code",
   "execution_count": 64,
   "id": "22323fe1-3da9-4fce-96ab-12e2a296a795",
   "metadata": {},
   "outputs": [
    {
     "data": {
      "text/plain": [
       "torch.Size([1, 8, 10, 10])"
      ]
     },
     "execution_count": 64,
     "metadata": {},
     "output_type": "execute_result"
    }
   ],
   "source": [
    "location_conv2 = nn.Conv2d(256, 8, 3)\n",
    "location_out = location_conv2(location_out)\n",
    "location_out.shape"
   ]
  },
  {
   "cell_type": "code",
   "execution_count": 90,
   "id": "bbaf65bc-5b4a-44ea-ad9e-372e6ae177cd",
   "metadata": {},
   "outputs": [],
   "source": [
    "class ShapeBiasedStream(nn.Module):\n",
    "    def __init__(self):\n",
    "        super(ShapeBiasedStream, self).__init__()\n",
    "        self.vgg_texture = VggBackbone(init_weight=True)\n",
    "        \n",
    "        self.shape_stream = nn.Sequential(\n",
    "            nn.Conv2d(512, 256, 1),\n",
    "            nn.Conv2d(256, 128, 3),\n",
    "            nn.Conv2d(128, 256, 1)\n",
    "        )\n",
    "        \n",
    "        self.avg_pool = nn.AdaptiveAvgPool2d((1, 1))\n",
    "        self.vis_lin = nn.Linear(256, 8)\n",
    "        \n",
    "        self.location = nn.Sequential(\n",
    "            nn.ConvTranspose2d(256, 256, 4, stride=2),\n",
    "            nn.Conv2d(256, 8, 3)\n",
    "        )\n",
    "    \n",
    "    def forward(self, x):\n",
    "        # activation은 여기서\n",
    "        print(x.shape)\n",
    "        out = self.vgg_texture(x)\n",
    "        # print(out.shape)\n",
    "        out = self.shape_stream(out)\n",
    "        # print(out.shape)\n",
    "        # return shape_out\n",
    "        \n",
    "        vis_out = self.avg_pool(out)\n",
    "        vis_out = vis_out.squeeze()\n",
    "        vis_out = torch.sigmoid(vis_out)\n",
    "        \n",
    "        loc_out = self.location(out)\n",
    "        return vis_out, loc_out"
   ]
  },
  {
   "cell_type": "code",
   "execution_count": 91,
   "id": "e1c8ec7b-c453-45f9-b1ef-e3d83d5af751",
   "metadata": {},
   "outputs": [
    {
     "name": "stderr",
     "output_type": "stream",
     "text": [
      "Using cache found in /home/jaeho/.cache/torch/hub/pytorch_vision_v0.10.0\n"
     ]
    }
   ],
   "source": [
    "shape_model = ShapeBiasedStream().to(device)"
   ]
  },
  {
   "cell_type": "code",
   "execution_count": 92,
   "id": "bb917525-570d-43d8-a772-8ffada0b44dc",
   "metadata": {},
   "outputs": [
    {
     "name": "stdout",
     "output_type": "stream",
     "text": [
      "torch.Size([2, 3, 224, 224])\n",
      "----------------------------------------------------------------\n",
      "        Layer (type)               Output Shape         Param #\n",
      "================================================================\n",
      "            Conv2d-1         [-1, 64, 224, 224]           1,792\n",
      "              ReLU-2         [-1, 64, 224, 224]               0\n",
      "            Conv2d-3         [-1, 64, 224, 224]          36,928\n",
      "              ReLU-4         [-1, 64, 224, 224]               0\n",
      "         MaxPool2d-5         [-1, 64, 112, 112]               0\n",
      "            Conv2d-6        [-1, 128, 112, 112]          73,856\n",
      "              ReLU-7        [-1, 128, 112, 112]               0\n",
      "            Conv2d-8        [-1, 128, 112, 112]         147,584\n",
      "              ReLU-9        [-1, 128, 112, 112]               0\n",
      "        MaxPool2d-10          [-1, 128, 56, 56]               0\n",
      "           Conv2d-11          [-1, 256, 56, 56]         295,168\n",
      "             ReLU-12          [-1, 256, 56, 56]               0\n",
      "           Conv2d-13          [-1, 256, 56, 56]         590,080\n",
      "             ReLU-14          [-1, 256, 56, 56]               0\n",
      "           Conv2d-15          [-1, 256, 56, 56]         590,080\n",
      "             ReLU-16          [-1, 256, 56, 56]               0\n",
      "        MaxPool2d-17          [-1, 256, 28, 28]               0\n",
      "           Conv2d-18          [-1, 512, 28, 28]       1,180,160\n",
      "             ReLU-19          [-1, 512, 28, 28]               0\n",
      "           Conv2d-20          [-1, 512, 28, 28]       2,359,808\n",
      "             ReLU-21          [-1, 512, 28, 28]               0\n",
      "           Conv2d-22          [-1, 512, 28, 28]       2,359,808\n",
      "             ReLU-23          [-1, 512, 28, 28]               0\n",
      "        MaxPool2d-24          [-1, 512, 14, 14]               0\n",
      "           Conv2d-25          [-1, 512, 14, 14]       2,359,808\n",
      "             ReLU-26          [-1, 512, 14, 14]               0\n",
      "           Conv2d-27          [-1, 512, 14, 14]       2,359,808\n",
      "             ReLU-28          [-1, 512, 14, 14]               0\n",
      "           Conv2d-29          [-1, 512, 14, 14]       2,359,808\n",
      "             ReLU-30          [-1, 512, 14, 14]               0\n",
      "        MaxPool2d-31            [-1, 512, 7, 7]               0\n",
      "      VggBackbone-32            [-1, 512, 7, 7]               0\n",
      "           Conv2d-33            [-1, 256, 7, 7]         131,328\n",
      "           Conv2d-34            [-1, 128, 5, 5]         295,040\n",
      "           Conv2d-35            [-1, 256, 5, 5]          33,024\n",
      "AdaptiveAvgPool2d-36            [-1, 256, 1, 1]               0\n",
      "  ConvTranspose2d-37          [-1, 256, 12, 12]       1,048,832\n",
      "           Conv2d-38            [-1, 8, 10, 10]          18,440\n",
      "================================================================\n",
      "Total params: 16,241,352\n",
      "Trainable params: 16,241,352\n",
      "Non-trainable params: 0\n",
      "----------------------------------------------------------------\n",
      "Input size (MB): 0.57\n",
      "Forward/backward pass size (MB): 219.04\n",
      "Params size (MB): 61.96\n",
      "Estimated Total Size (MB): 281.57\n",
      "----------------------------------------------------------------\n"
     ]
    }
   ],
   "source": [
    "# shape_out = shape_model(torch.rand(1, 3, 224, 224).to(device))\n",
    "summary(shape_model, (3, 224, 224))"
   ]
  },
  {
   "cell_type": "code",
   "execution_count": null,
   "id": "f2d24cef-1d0c-4990-ae35-17140c407de5",
   "metadata": {},
   "outputs": [],
   "source": []
  },
  {
   "cell_type": "code",
   "execution_count": 74,
   "id": "2414dcbb-fdc3-4096-add6-0f86e596714c",
   "metadata": {},
   "outputs": [
    {
     "data": {
      "text/plain": [
       "torch.Size([1, 256, 5, 5])"
      ]
     },
     "execution_count": 74,
     "metadata": {},
     "output_type": "execute_result"
    }
   ],
   "source": [
    "shape_out.shape"
   ]
  },
  {
   "cell_type": "code",
   "execution_count": 75,
   "id": "81a945fd-7b6f-4785-9683-a88eeeae3a0e",
   "metadata": {},
   "outputs": [],
   "source": [
    "avg_pooled = nn.AdaptiveAvgPool2d((1, 1))(shape_out)"
   ]
  },
  {
   "cell_type": "code",
   "execution_count": 76,
   "id": "fd5a5e63-c026-4d9f-b649-426ebaca5564",
   "metadata": {},
   "outputs": [
    {
     "data": {
      "text/plain": [
       "torch.Size([1, 256, 1, 1])"
      ]
     },
     "execution_count": 76,
     "metadata": {},
     "output_type": "execute_result"
    }
   ],
   "source": [
    "avg_pooled.shape"
   ]
  },
  {
   "cell_type": "code",
   "execution_count": null,
   "id": "bf7f856b-40d8-4950-945f-0eb92567afc3",
   "metadata": {},
   "outputs": [],
   "source": []
  },
  {
   "cell_type": "markdown",
   "id": "605a41ca-e9d5-4461-a9e7-f0877b7a23bd",
   "metadata": {},
   "source": [
    "## 다 합쳐보면\n",
    "---\n",
    "\n",
    "크게 두개의 클래스로..\n",
    "1. Vgg feature backbone\n",
    "2. TSFashionNet\n",
    "    - 여기서 근데 Stream이 두개이지만... 공유하는 구조는 단순히 vgg 백본 뿐\n",
    "    - 근데 학습 자체적으로 shape따로, 이후에 joint learning을 하는 것이기 때문에 각각의 클래스를 따로 두는 것이 나을지도 모른다.\n",
    "        - 그게 아니면 막 클래스안에서 이프문으로 나눠야 하는데..\n",
    "    - 하지만 concat한 feature를 역전파 시키기 위헤서는 그 뒤에서부터 오는 ........"
   ]
  },
  {
   "cell_type": "code",
   "execution_count": null,
   "id": "c3e25ac2-295f-40c4-a8b6-c0e33fca3740",
   "metadata": {},
   "outputs": [],
   "source": [
    "class TSFashionNet(nn.Module):\n",
    "    def __init__(self):\n",
    "        pass\n",
    "    \n",
    "    def forward(self, x):\n",
    "        pass\n",
    "    \n",
    "    def _make_texture_stream(self):\n",
    "        pass\n",
    "    \n",
    "    def _make_shape_stream(self):\n",
    "        pass"
   ]
  },
  {
   "cell_type": "code",
   "execution_count": 18,
   "id": "ec2dc0c6-ccdc-4d7f-9b58-8c405a1e7eee",
   "metadata": {},
   "outputs": [],
   "source": [
    "class TSFashionNet(nn.Module):\n",
    "    def __init__(self):\n",
    "        super(TSFashionNet, self).__init__()\n",
    "        # texture\n",
    "        self.texture_backbone = VggBackbone(init_weight=False)\n",
    "        self.texture_stream = nn.Sequential(\n",
    "            nn.Conv2d(1024, 2048, 3, padding=0),\n",
    "            nn.Conv2d(2048, 4096, 3, padding=1),\n",
    "            nn.Dropout(0.5),\n",
    "            nn.AdaptiveAvgPool2d((1, 1))\n",
    "        )\n",
    "        self.clothes_cls_fc = nn.Linear(4096, 48)\n",
    "        self.attr_recog_fc = nn.Linear(4096, 1000)\n",
    "        \n",
    "        \n",
    "        # shape\n",
    "        self.shape_backbone = VggBackbone(init_weight=True)\n",
    "        self.conv5_maxpool = nn.MaxPool2d(kernel_size=2, stride=2, padding=0, dilation=1, ceil_mode=False)\n",
    "        \n",
    "        self.shape_stream = nn.Sequential(\n",
    "            nn.Conv2d(512, 256, 1),\n",
    "            nn.Conv2d(256, 128, 3, padding=1),\n",
    "            nn.Conv2d(128, 256, 1)\n",
    "        )\n",
    "        \n",
    "        self.avg_pool = nn.AdaptiveAvgPool2d((1, 1))\n",
    "        self.vis_fc = nn.Linear(256, 8)\n",
    "        \n",
    "        self.location = nn.Sequential(\n",
    "            nn.ConvTranspose2d(256, 256, 4, stride=2),\n",
    "            nn.Conv2d(256, 8, 3)\n",
    "        )\n",
    "    \n",
    "    def forward(self, x, shape=False):\n",
    "        # shape\n",
    "        shape_feature = self.shape_backbone(x)\n",
    "        shape_out = self.shape_stream(shape_feature)\n",
    "        vis_out = self.avg_pool(shape_out)\n",
    "        vis_out = torch.squeeze(vis_out)\n",
    "        vis_out = self.vis_fc(vis_out)\n",
    "        vis_out = torch.sigmoid(vis_out)\n",
    "        \n",
    "        loc_out = self.location(shape_out)\n",
    "        \n",
    "        if shape:\n",
    "            return vis_out, loc_out\n",
    "        \n",
    "        # texture\n",
    "        texture_out = self.texture_backbone(x)\n",
    "        cat_shape = self.conv5_maxpool(shape_feature)\n",
    "        texture_out = torch.cat((texture_out, cat_shape), dim=1)\n",
    "        texture_out = self.texture_stream(texture_out)\n",
    "        texture_out = torch.squeeze(texture_out)\n",
    "        \n",
    "        clothes_out = self.clothes_cls_fc(texture_out)\n",
    "        clothes_out = torch.softmax(clothes_out, dim=0)\n",
    "        \n",
    "        attr_out = self.attr_recog_fc(texture_out)\n",
    "        attr_out = torch.sigmoid(attr_out)\n",
    "        \n",
    "        return vis_out, loc_out, clothes_out, attr_out"
   ]
  },
  {
   "cell_type": "code",
   "execution_count": 19,
   "id": "a4b0fc28-7fe2-4248-a90a-4040965bc9bf",
   "metadata": {},
   "outputs": [],
   "source": [
    "device = torch.device(\"cuda\" if torch.cuda.is_available() else \"cpu\")"
   ]
  },
  {
   "cell_type": "code",
   "execution_count": 20,
   "id": "d0c357dc-8388-412f-a5a3-464ee5168f94",
   "metadata": {},
   "outputs": [
    {
     "name": "stderr",
     "output_type": "stream",
     "text": [
      "Using cache found in /home/jaeho/.cache/torch/hub/pytorch_vision_v0.10.0\n",
      "Using cache found in /home/jaeho/.cache/torch/hub/pytorch_vision_v0.10.0\n"
     ]
    }
   ],
   "source": [
    "model = TSFashionNet().to(device)"
   ]
  },
  {
   "cell_type": "code",
   "execution_count": 22,
   "id": "63399477-a6b2-48f9-8a2c-d0886a28c644",
   "metadata": {},
   "outputs": [
    {
     "data": {
      "text/plain": [
       "TSFashionNet(\n",
       "  (texture_backbone): VggBackbone(\n",
       "    (conv1): Sequential(\n",
       "      (0): Conv2d(3, 64, kernel_size=(3, 3), stride=(1, 1), padding=(1, 1))\n",
       "      (1): ReLU(inplace=True)\n",
       "      (2): Conv2d(64, 64, kernel_size=(3, 3), stride=(1, 1), padding=(1, 1))\n",
       "      (3): ReLU(inplace=True)\n",
       "      (4): MaxPool2d(kernel_size=2, stride=2, padding=0, dilation=1, ceil_mode=False)\n",
       "    )\n",
       "    (conv2): Sequential(\n",
       "      (0): Conv2d(64, 128, kernel_size=(3, 3), stride=(1, 1), padding=(1, 1))\n",
       "      (1): ReLU(inplace=True)\n",
       "      (2): Conv2d(128, 128, kernel_size=(3, 3), stride=(1, 1), padding=(1, 1))\n",
       "      (3): ReLU(inplace=True)\n",
       "      (4): MaxPool2d(kernel_size=2, stride=2, padding=0, dilation=1, ceil_mode=False)\n",
       "    )\n",
       "    (conv3): Sequential(\n",
       "      (0): Conv2d(128, 256, kernel_size=(3, 3), stride=(1, 1), padding=(1, 1))\n",
       "      (1): ReLU(inplace=True)\n",
       "      (2): Conv2d(256, 256, kernel_size=(3, 3), stride=(1, 1), padding=(1, 1))\n",
       "      (3): ReLU(inplace=True)\n",
       "      (4): Conv2d(256, 256, kernel_size=(3, 3), stride=(1, 1), padding=(1, 1))\n",
       "      (5): ReLU(inplace=True)\n",
       "      (6): MaxPool2d(kernel_size=2, stride=2, padding=0, dilation=1, ceil_mode=False)\n",
       "    )\n",
       "    (conv4): Sequential(\n",
       "      (0): Conv2d(256, 512, kernel_size=(3, 3), stride=(1, 1), padding=(1, 1))\n",
       "      (1): ReLU(inplace=True)\n",
       "      (2): Conv2d(512, 512, kernel_size=(3, 3), stride=(1, 1), padding=(1, 1))\n",
       "      (3): ReLU(inplace=True)\n",
       "      (4): Conv2d(512, 512, kernel_size=(3, 3), stride=(1, 1), padding=(1, 1))\n",
       "      (5): ReLU(inplace=True)\n",
       "      (6): MaxPool2d(kernel_size=2, stride=2, padding=0, dilation=1, ceil_mode=False)\n",
       "    )\n",
       "    (conv5): Sequential(\n",
       "      (0): Conv2d(512, 512, kernel_size=(3, 3), stride=(1, 1), padding=(1, 1))\n",
       "      (1): ReLU(inplace=True)\n",
       "      (2): Conv2d(512, 512, kernel_size=(3, 3), stride=(1, 1), padding=(1, 1))\n",
       "      (3): ReLU(inplace=True)\n",
       "      (4): Conv2d(512, 512, kernel_size=(3, 3), stride=(1, 1), padding=(1, 1))\n",
       "      (5): ReLU(inplace=True)\n",
       "      (6): MaxPool2d(kernel_size=2, stride=2, padding=0, dilation=1, ceil_mode=False)\n",
       "    )\n",
       "  )\n",
       "  (texture_stream): Sequential(\n",
       "    (0): Conv2d(1024, 2048, kernel_size=(3, 3), stride=(1, 1))\n",
       "    (1): Conv2d(2048, 4096, kernel_size=(3, 3), stride=(1, 1), padding=(1, 1))\n",
       "    (2): Dropout(p=0.5, inplace=False)\n",
       "    (3): AdaptiveAvgPool2d(output_size=(1, 1))\n",
       "  )\n",
       "  (clothes_cls_fc): Linear(in_features=4096, out_features=48, bias=True)\n",
       "  (attr_recog_fc): Linear(in_features=4096, out_features=1000, bias=True)\n",
       "  (shape_backbone): VggBackbone(\n",
       "    (conv1): Sequential(\n",
       "      (0): Conv2d(3, 64, kernel_size=(3, 3), stride=(1, 1), padding=(1, 1))\n",
       "      (1): ReLU(inplace=True)\n",
       "      (2): Conv2d(64, 64, kernel_size=(3, 3), stride=(1, 1), padding=(1, 1))\n",
       "      (3): ReLU(inplace=True)\n",
       "      (4): MaxPool2d(kernel_size=2, stride=2, padding=0, dilation=1, ceil_mode=False)\n",
       "    )\n",
       "    (conv2): Sequential(\n",
       "      (0): Conv2d(64, 128, kernel_size=(3, 3), stride=(1, 1), padding=(1, 1))\n",
       "      (1): ReLU(inplace=True)\n",
       "      (2): Conv2d(128, 128, kernel_size=(3, 3), stride=(1, 1), padding=(1, 1))\n",
       "      (3): ReLU(inplace=True)\n",
       "      (4): MaxPool2d(kernel_size=2, stride=2, padding=0, dilation=1, ceil_mode=False)\n",
       "    )\n",
       "    (conv3): Sequential(\n",
       "      (0): Conv2d(128, 256, kernel_size=(3, 3), stride=(1, 1), padding=(1, 1))\n",
       "      (1): ReLU(inplace=True)\n",
       "      (2): Conv2d(256, 256, kernel_size=(3, 3), stride=(1, 1), padding=(1, 1))\n",
       "      (3): ReLU(inplace=True)\n",
       "      (4): Conv2d(256, 256, kernel_size=(3, 3), stride=(1, 1), padding=(1, 1))\n",
       "      (5): ReLU(inplace=True)\n",
       "      (6): MaxPool2d(kernel_size=2, stride=2, padding=0, dilation=1, ceil_mode=False)\n",
       "    )\n",
       "    (conv4): Sequential(\n",
       "      (0): Conv2d(256, 512, kernel_size=(3, 3), stride=(1, 1), padding=(1, 1))\n",
       "      (1): ReLU(inplace=True)\n",
       "      (2): Conv2d(512, 512, kernel_size=(3, 3), stride=(1, 1), padding=(1, 1))\n",
       "      (3): ReLU(inplace=True)\n",
       "      (4): Conv2d(512, 512, kernel_size=(3, 3), stride=(1, 1), padding=(1, 1))\n",
       "      (5): ReLU(inplace=True)\n",
       "      (6): MaxPool2d(kernel_size=2, stride=2, padding=0, dilation=1, ceil_mode=False)\n",
       "    )\n",
       "    (conv5): Sequential(\n",
       "      (0): Conv2d(512, 512, kernel_size=(3, 3), stride=(1, 1), padding=(1, 1))\n",
       "      (1): ReLU(inplace=True)\n",
       "      (2): Conv2d(512, 512, kernel_size=(3, 3), stride=(1, 1), padding=(1, 1))\n",
       "      (3): ReLU(inplace=True)\n",
       "      (4): Conv2d(512, 512, kernel_size=(3, 3), stride=(1, 1), padding=(1, 1))\n",
       "      (5): ReLU(inplace=True)\n",
       "    )\n",
       "  )\n",
       "  (conv5_maxpool): MaxPool2d(kernel_size=2, stride=2, padding=0, dilation=1, ceil_mode=False)\n",
       "  (shape_stream): Sequential(\n",
       "    (0): Conv2d(512, 256, kernel_size=(1, 1), stride=(1, 1))\n",
       "    (1): Conv2d(256, 128, kernel_size=(3, 3), stride=(1, 1), padding=(1, 1))\n",
       "    (2): Conv2d(128, 256, kernel_size=(1, 1), stride=(1, 1))\n",
       "  )\n",
       "  (avg_pool): AdaptiveAvgPool2d(output_size=(1, 1))\n",
       "  (vis_fc): Linear(in_features=256, out_features=8, bias=True)\n",
       "  (location): Sequential(\n",
       "    (0): ConvTranspose2d(256, 256, kernel_size=(4, 4), stride=(2, 2))\n",
       "    (1): Conv2d(256, 8, kernel_size=(3, 3), stride=(1, 1))\n",
       "  )\n",
       ")"
      ]
     },
     "execution_count": 22,
     "metadata": {},
     "output_type": "execute_result"
    }
   ],
   "source": [
    "model"
   ]
  },
  {
   "cell_type": "code",
   "execution_count": 21,
   "id": "18cc02ad-b379-4786-a1e1-1ac9b0491744",
   "metadata": {},
   "outputs": [
    {
     "name": "stdout",
     "output_type": "stream",
     "text": [
      "----------------------------------------------------------------\n",
      "        Layer (type)               Output Shape         Param #\n",
      "================================================================\n",
      "            Conv2d-1         [-1, 64, 224, 224]           1,792\n",
      "              ReLU-2         [-1, 64, 224, 224]               0\n",
      "            Conv2d-3         [-1, 64, 224, 224]          36,928\n",
      "              ReLU-4         [-1, 64, 224, 224]               0\n",
      "         MaxPool2d-5         [-1, 64, 112, 112]               0\n",
      "            Conv2d-6        [-1, 128, 112, 112]          73,856\n",
      "              ReLU-7        [-1, 128, 112, 112]               0\n",
      "            Conv2d-8        [-1, 128, 112, 112]         147,584\n",
      "              ReLU-9        [-1, 128, 112, 112]               0\n",
      "        MaxPool2d-10          [-1, 128, 56, 56]               0\n",
      "           Conv2d-11          [-1, 256, 56, 56]         295,168\n",
      "             ReLU-12          [-1, 256, 56, 56]               0\n",
      "           Conv2d-13          [-1, 256, 56, 56]         590,080\n",
      "             ReLU-14          [-1, 256, 56, 56]               0\n",
      "           Conv2d-15          [-1, 256, 56, 56]         590,080\n",
      "             ReLU-16          [-1, 256, 56, 56]               0\n",
      "        MaxPool2d-17          [-1, 256, 28, 28]               0\n",
      "           Conv2d-18          [-1, 512, 28, 28]       1,180,160\n",
      "             ReLU-19          [-1, 512, 28, 28]               0\n",
      "           Conv2d-20          [-1, 512, 28, 28]       2,359,808\n",
      "             ReLU-21          [-1, 512, 28, 28]               0\n",
      "           Conv2d-22          [-1, 512, 28, 28]       2,359,808\n",
      "             ReLU-23          [-1, 512, 28, 28]               0\n",
      "        MaxPool2d-24          [-1, 512, 14, 14]               0\n",
      "           Conv2d-25          [-1, 512, 14, 14]       2,359,808\n",
      "             ReLU-26          [-1, 512, 14, 14]               0\n",
      "           Conv2d-27          [-1, 512, 14, 14]       2,359,808\n",
      "             ReLU-28          [-1, 512, 14, 14]               0\n",
      "           Conv2d-29          [-1, 512, 14, 14]       2,359,808\n",
      "             ReLU-30          [-1, 512, 14, 14]               0\n",
      "      VggBackbone-31          [-1, 512, 14, 14]               0\n",
      "           Conv2d-32          [-1, 256, 14, 14]         131,328\n",
      "           Conv2d-33          [-1, 128, 14, 14]         295,040\n",
      "           Conv2d-34          [-1, 256, 14, 14]          33,024\n",
      "AdaptiveAvgPool2d-35            [-1, 256, 1, 1]               0\n",
      "           Linear-36                    [-1, 8]           2,056\n",
      "  ConvTranspose2d-37          [-1, 256, 30, 30]       1,048,832\n",
      "           Conv2d-38            [-1, 8, 28, 28]          18,440\n",
      "           Conv2d-39         [-1, 64, 224, 224]           1,792\n",
      "             ReLU-40         [-1, 64, 224, 224]               0\n",
      "           Conv2d-41         [-1, 64, 224, 224]          36,928\n",
      "             ReLU-42         [-1, 64, 224, 224]               0\n",
      "        MaxPool2d-43         [-1, 64, 112, 112]               0\n",
      "           Conv2d-44        [-1, 128, 112, 112]          73,856\n",
      "             ReLU-45        [-1, 128, 112, 112]               0\n",
      "           Conv2d-46        [-1, 128, 112, 112]         147,584\n",
      "             ReLU-47        [-1, 128, 112, 112]               0\n",
      "        MaxPool2d-48          [-1, 128, 56, 56]               0\n",
      "           Conv2d-49          [-1, 256, 56, 56]         295,168\n",
      "             ReLU-50          [-1, 256, 56, 56]               0\n",
      "           Conv2d-51          [-1, 256, 56, 56]         590,080\n",
      "             ReLU-52          [-1, 256, 56, 56]               0\n",
      "           Conv2d-53          [-1, 256, 56, 56]         590,080\n",
      "             ReLU-54          [-1, 256, 56, 56]               0\n",
      "        MaxPool2d-55          [-1, 256, 28, 28]               0\n",
      "           Conv2d-56          [-1, 512, 28, 28]       1,180,160\n",
      "             ReLU-57          [-1, 512, 28, 28]               0\n",
      "           Conv2d-58          [-1, 512, 28, 28]       2,359,808\n",
      "             ReLU-59          [-1, 512, 28, 28]               0\n",
      "           Conv2d-60          [-1, 512, 28, 28]       2,359,808\n",
      "             ReLU-61          [-1, 512, 28, 28]               0\n",
      "        MaxPool2d-62          [-1, 512, 14, 14]               0\n",
      "           Conv2d-63          [-1, 512, 14, 14]       2,359,808\n",
      "             ReLU-64          [-1, 512, 14, 14]               0\n",
      "           Conv2d-65          [-1, 512, 14, 14]       2,359,808\n",
      "             ReLU-66          [-1, 512, 14, 14]               0\n",
      "           Conv2d-67          [-1, 512, 14, 14]       2,359,808\n",
      "             ReLU-68          [-1, 512, 14, 14]               0\n",
      "        MaxPool2d-69            [-1, 512, 7, 7]               0\n",
      "      VggBackbone-70            [-1, 512, 7, 7]               0\n",
      "        MaxPool2d-71            [-1, 512, 7, 7]               0\n",
      "           Conv2d-72           [-1, 2048, 5, 5]      18,876,416\n",
      "           Conv2d-73           [-1, 4096, 5, 5]      75,501,568\n",
      "          Dropout-74           [-1, 4096, 5, 5]               0\n",
      "AdaptiveAvgPool2d-75           [-1, 4096, 1, 1]               0\n",
      "           Linear-76                   [-1, 48]         196,656\n",
      "           Linear-77                 [-1, 1000]       4,097,000\n",
      "================================================================\n",
      "Total params: 129,629,736\n",
      "Trainable params: 129,629,736\n",
      "Non-trainable params: 0\n",
      "----------------------------------------------------------------\n",
      "Input size (MB): 0.57\n",
      "Forward/backward pass size (MB): 442.50\n",
      "Params size (MB): 494.50\n",
      "Estimated Total Size (MB): 937.58\n",
      "----------------------------------------------------------------\n"
     ]
    }
   ],
   "source": [
    "summary(model, (3, 224, 224))"
   ]
  },
  {
   "cell_type": "code",
   "execution_count": null,
   "id": "d53944ee-8c5e-43a2-9d80-821cbeb768c4",
   "metadata": {},
   "outputs": [],
   "source": []
  }
 ],
 "metadata": {
  "kernelspec": {
   "display_name": "torch",
   "language": "python",
   "name": "torch"
  },
  "language_info": {
   "codemirror_mode": {
    "name": "ipython",
    "version": 3
   },
   "file_extension": ".py",
   "mimetype": "text/x-python",
   "name": "python",
   "nbconvert_exporter": "python",
   "pygments_lexer": "ipython3",
   "version": "3.7.10"
  }
 },
 "nbformat": 4,
 "nbformat_minor": 5
}
