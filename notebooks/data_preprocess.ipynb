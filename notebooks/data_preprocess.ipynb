{
 "cells": [
  {
   "cell_type": "code",
   "execution_count": 13,
   "metadata": {},
   "outputs": [],
   "source": [
    "import os\n",
    "import sys\n",
    "import json\n",
    "import pickle\n",
    "import pandas as pd\n",
    "import matplotlib.pyplot as plt\n",
    "\n",
    "from glob import glob\n",
    "from tqdm import tqdm\n",
    "from PIL import Image\n",
    "from collections import defaultdict, Counter"
   ]
  },
  {
   "cell_type": "code",
   "execution_count": 14,
   "metadata": {},
   "outputs": [
    {
     "name": "stdout",
     "output_type": "stream",
     "text": [
      "/media/jaeho/SSD/paper/notebooks\n"
     ]
    }
   ],
   "source": [
    "!pwd"
   ]
  },
  {
   "cell_type": "code",
   "execution_count": 15,
   "metadata": {},
   "outputs": [],
   "source": [
    "saved_dir = '/media/jaeho/SSD/datasets/deepfashion/preprocessed_data'"
   ]
  },
  {
   "cell_type": "code",
   "execution_count": 16,
   "metadata": {},
   "outputs": [],
   "source": [
    "data_dir = '/media/jaeho/SSD/datasets/deepfashion/category_and_attribute_prediction/category_and_attribute_prediction_benchmark/Anno_coarse'"
   ]
  },
  {
   "cell_type": "code",
   "execution_count": 17,
   "metadata": {},
   "outputs": [
    {
     "data": {
      "text/plain": [
       "['list_attr_cloth.txt',\n",
       " 'list_attr_img.txt',\n",
       " 'list_bbox.txt',\n",
       " 'list_category_cloth.txt',\n",
       " 'list_category_img.txt',\n",
       " 'list_landmarks.txt']"
      ]
     },
     "execution_count": 17,
     "metadata": {},
     "output_type": "execute_result"
    }
   ],
   "source": [
    "os.listdir(data_dir)"
   ]
  },
  {
   "cell_type": "code",
   "execution_count": 18,
   "metadata": {},
   "outputs": [],
   "source": [
    "target_img_dir = '/media/jaeho/SSD/datasets/deepfashion/img-001/'"
   ]
  },
  {
   "cell_type": "code",
   "execution_count": 19,
   "metadata": {},
   "outputs": [],
   "source": [
    "attr_cloth_path = os.path.join(data_dir, 'list_attr_cloth.txt')\n",
    "attr_img_path = os.path.join(data_dir, 'list_attr_img.txt')\n",
    "bbox_path = os.path.join(data_dir, 'list_bbox.txt')\n",
    "category_cloth_path = os.path.join(data_dir, 'list_category_cloth.txt')\n",
    "category_img_path = os.path.join(data_dir, 'list_category_img.txt')\n",
    "landmark_path = os.path.join(data_dir, 'list_landmarks.txt')"
   ]
  },
  {
   "cell_type": "markdown",
   "metadata": {},
   "source": [
    "# Attribute"
   ]
  },
  {
   "cell_type": "markdown",
   "metadata": {},
   "source": [
    "## attr_cloth\n",
    "- attribute_type\n",
    "    - 1 : texture_related attributes\n",
    "    - 2 : fabric_related attributes\n",
    "    - 3 : shape_related attributes\n",
    "    - 4 : part_related attributes\n",
    "    - 5 : style_related attributes\n",
    "- attribute_name으로 사전식 정렬"
   ]
  },
  {
   "cell_type": "code",
   "execution_count": 20,
   "metadata": {
    "tags": []
   },
   "outputs": [
    {
     "name": "stdout",
     "output_type": "stream",
     "text": [
      "number of attrs : 1000\n"
     ]
    }
   ],
   "source": [
    "attr_cloth = []\n",
    "with open(attr_cloth_path, 'r') as f:\n",
    "    cnt = 0\n",
    "    while True:\n",
    "        line = f.readline()\n",
    "        line = line.replace(\"\\n\", \"\")\n",
    "        if not line : break\n",
    "        if cnt < 2 :\n",
    "            if cnt == 0:\n",
    "                print(f\"number of attrs : {line}\")\n",
    "            cnt += 1\n",
    "            continue\n",
    "        splited_line = [x for x in [l.replace(\" \", \"\") for l in line.split(\"  \")] if x != \"\"]\n",
    "        attribute_name, attribute_type = splited_line\n",
    "\n",
    "        attr_cloth.append({'attr_name': attribute_name,\n",
    "                           'attr_type': int(attribute_type)})\n",
    "        cnt += 1"
   ]
  },
  {
   "cell_type": "code",
   "execution_count": 21,
   "metadata": {},
   "outputs": [
    {
     "name": "stdout",
     "output_type": "stream",
     "text": [
      "/media/jaeho/SSD/datasets/deepfashion/preprocessed_data/attr_cloth.pickle\n"
     ]
    }
   ],
   "source": [
    "with open(os.path.join(saved_dir, 'attr_cloth.pickle'), 'wb') as f:\n",
    "    pickle.dump(attr_cloth, f, pickle.HIGHEST_PROTOCOL)\n",
    "print(os.path.join(saved_dir, 'attr_cloth.pickle'))"
   ]
  },
  {
   "cell_type": "code",
   "execution_count": 22,
   "metadata": {},
   "outputs": [
    {
     "data": {
      "text/plain": [
       "[{'attr_name': 'a-line', 'attr_type': 3},\n",
       " {'attr_name': 'abstract', 'attr_type': 1}]"
      ]
     },
     "execution_count": 22,
     "metadata": {},
     "output_type": "execute_result"
    }
   ],
   "source": [
    "attr_cloth[:2]"
   ]
  },
  {
   "cell_type": "markdown",
   "metadata": {},
   "source": [
    "## attr_img"
   ]
  },
  {
   "cell_type": "code",
   "execution_count": 23,
   "metadata": {
    "tags": []
   },
   "outputs": [
    {
     "name": "stdout",
     "output_type": "stream",
     "text": [
      "number of images : 289222\n",
      "\n"
     ]
    }
   ],
   "source": [
    "attr_img = []\n",
    "with open(attr_img_path, 'r') as f:\n",
    "    cnt = 0\n",
    "    while True:\n",
    "        line = f.readline()\n",
    "        if not line : break\n",
    "        if cnt < 2 :\n",
    "            if cnt==0:\n",
    "                print(f\"number of images : {line}\")\n",
    "            cnt += 1\n",
    "            continue\n",
    "        line = line.replace(\"\\n\", \"\")\n",
    "        splited_line = [x for x in line.split(\".jpg\") if x != '']\n",
    "        img_path, attr_labels = splited_line\n",
    "        img_path += '.jpg'\n",
    "        attr_labels = list(map(int, [x for x in attr_labels.split(' ') if x != '']))\n",
    "        attr_img.append({\n",
    "            'img_path' : img_path,\n",
    "            'attr_labels' : attr_labels\n",
    "        })\n",
    "\n",
    "        cnt += 1"
   ]
  },
  {
   "cell_type": "code",
   "execution_count": 24,
   "metadata": {},
   "outputs": [
    {
     "name": "stdout",
     "output_type": "stream",
     "text": [
      "/media/jaeho/SSD/datasets/deepfashion/preprocessed_data/attr_img.pickle\n"
     ]
    }
   ],
   "source": [
    "with open(os.path.join(saved_dir, 'attr_img.pickle'), 'wb') as f:\n",
    "    pickle.dump(attr_img, f, pickle.HIGHEST_PROTOCOL)\n",
    "print(os.path.join(saved_dir, 'attr_img.pickle'))"
   ]
  },
  {
   "cell_type": "code",
   "execution_count": 25,
   "metadata": {},
   "outputs": [
    {
     "data": {
      "text/plain": [
       "289222"
      ]
     },
     "execution_count": 25,
     "metadata": {},
     "output_type": "execute_result"
    }
   ],
   "source": [
    "len(attr_img)"
   ]
  },
  {
   "cell_type": "code",
   "execution_count": null,
   "metadata": {},
   "outputs": [],
   "source": []
  },
  {
   "cell_type": "markdown",
   "metadata": {},
   "source": [
    "# Categories"
   ]
  },
  {
   "cell_type": "markdown",
   "metadata": {
    "tags": []
   },
   "source": [
    "## category_cloth\n",
    "- category type\n",
    "    - 1 : upper_body\n",
    "    - 2 : lower_body\n",
    "    - 3 : full_body\n",
    "- category 이름, 사전순 정렬"
   ]
  },
  {
   "cell_type": "code",
   "execution_count": 31,
   "metadata": {},
   "outputs": [
    {
     "name": "stdout",
     "output_type": "stream",
     "text": [
      "number of categories : 50\n"
     ]
    }
   ],
   "source": [
    "category_cloth = []\n",
    "with open(category_cloth_path, 'r') as f:\n",
    "    cnt = 0\n",
    "    while True:\n",
    "        line = f.readline()\n",
    "        line = line.replace(\"\\n\", \"\")\n",
    "        if not line : break\n",
    "        if cnt < 2 :\n",
    "            if cnt == 0:\n",
    "                print(f\"number of categories : {line}\")\n",
    "            cnt += 1\n",
    "            continue\n",
    "        splited_line = [x for x in [l.replace(\" \", \"\") for l in line.split(\"  \")] if x != \"\"]\n",
    "        category_name, category_type = splited_line\n",
    "\n",
    "        category_cloth.append({'category_name': category_name,\n",
    "                           'category_type': int(category_type)})\n",
    "        cnt += 1"
   ]
  },
  {
   "cell_type": "code",
   "execution_count": 32,
   "metadata": {},
   "outputs": [
    {
     "name": "stdout",
     "output_type": "stream",
     "text": [
      "/media/jaeho/SSD/datasets/deepfashion/preprocessed_data/category_cloth.pickle\n"
     ]
    }
   ],
   "source": [
    "with open(os.path.join(saved_dir, 'category_cloth.pickle'), 'wb') as f:\n",
    "    pickle.dump(category_cloth, f, pickle.HIGHEST_PROTOCOL)\n",
    "print(os.path.join(saved_dir, 'category_cloth.pickle'))"
   ]
  },
  {
   "cell_type": "code",
   "execution_count": 33,
   "metadata": {},
   "outputs": [
    {
     "data": {
      "text/plain": [
       "[{'category_name': 'Anorak', 'category_type': 1},\n",
       " {'category_name': 'Blazer', 'category_type': 1}]"
      ]
     },
     "execution_count": 33,
     "metadata": {},
     "output_type": "execute_result"
    }
   ],
   "source": [
    "category_cloth[:2]"
   ]
  },
  {
   "cell_type": "code",
   "execution_count": null,
   "metadata": {},
   "outputs": [],
   "source": []
  },
  {
   "cell_type": "markdown",
   "metadata": {},
   "source": [
    "## category_img"
   ]
  },
  {
   "cell_type": "code",
   "execution_count": 35,
   "metadata": {},
   "outputs": [
    {
     "name": "stdout",
     "output_type": "stream",
     "text": [
      "number of images : 289222\n",
      "\n"
     ]
    }
   ],
   "source": [
    "category_img = []\n",
    "with open(category_img_path, 'r') as f:\n",
    "    cnt = 0\n",
    "    while True:\n",
    "        line = f.readline()\n",
    "        if not line : break\n",
    "        if cnt < 2 :\n",
    "            if cnt==0:\n",
    "                print(f\"number of images : {line}\")\n",
    "            cnt += 1\n",
    "            continue\n",
    "        line = line.replace(\"\\n\", \"\")\n",
    "        splited_line = [x for x in line.split(\".jpg\") if x != '']\n",
    "        img_path, category_label = splited_line\n",
    "        img_path += '.jpg'\n",
    "        category_label = list(map(int, [x for x in category_label.split(' ') if x != '']))\n",
    "        category_label = [x-1 for x in category_label]\n",
    "        category_img.append({\n",
    "            'img_path' : img_path,\n",
    "            'category_label' : category_label\n",
    "        })\n",
    "\n",
    "        cnt += 1"
   ]
  },
  {
   "cell_type": "code",
   "execution_count": 36,
   "metadata": {},
   "outputs": [
    {
     "data": {
      "text/plain": [
       "'img/Sheer_Pleated-Front_Blouse/img_00000001.jpg'"
      ]
     },
     "execution_count": 36,
     "metadata": {},
     "output_type": "execute_result"
    }
   ],
   "source": [
    "category_img[0]['img_path']"
   ]
  },
  {
   "cell_type": "code",
   "execution_count": 37,
   "metadata": {},
   "outputs": [
    {
     "data": {
      "text/plain": [
       "[2]"
      ]
     },
     "execution_count": 37,
     "metadata": {},
     "output_type": "execute_result"
    }
   ],
   "source": [
    "category_img[0]['category_label']"
   ]
  },
  {
   "cell_type": "code",
   "execution_count": 38,
   "metadata": {},
   "outputs": [
    {
     "name": "stdout",
     "output_type": "stream",
     "text": [
      "/media/jaeho/SSD/datasets/deepfashion/preprocessed_data/category_img.pickle\n"
     ]
    }
   ],
   "source": [
    "with open(os.path.join(saved_dir, 'category_img.pickle'), 'wb') as f:\n",
    "    pickle.dump(category_img, f, pickle.HIGHEST_PROTOCOL)\n",
    "print(os.path.join(saved_dir, 'category_img.pickle'))"
   ]
  },
  {
   "cell_type": "code",
   "execution_count": null,
   "metadata": {},
   "outputs": [],
   "source": []
  },
  {
   "cell_type": "markdown",
   "metadata": {},
   "source": [
    "# Bbox\n",
    "- format : [x1, y1, x2, y2]\n",
    "- x1, y1 : upper left point\n",
    "- x2, y2 : lower right point"
   ]
  },
  {
   "cell_type": "code",
   "execution_count": 39,
   "metadata": {},
   "outputs": [
    {
     "name": "stdout",
     "output_type": "stream",
     "text": [
      "number of images : 289222\n",
      "image_name  x_1  y_1  x_2  y_2\n"
     ]
    }
   ],
   "source": [
    "bboxes = []\n",
    "with open(bbox_path, 'r') as f:\n",
    "    cnt = 0\n",
    "    while True:\n",
    "        line = f.readline()\n",
    "        line = line.replace(\"\\n\", \"\")\n",
    "        if not line : break\n",
    "        if cnt < 2 :\n",
    "            if cnt == 0:\n",
    "                print(f\"number of images : {line}\")\n",
    "            else :\n",
    "                print(line)\n",
    "            cnt += 1\n",
    "            continue\n",
    "        img_path, bbox = line.split('.jpg')\n",
    "        img_path += '.jpg'\n",
    "        bbox = list(map(int, [x for x in bbox.split(' ') if x != '']))\n",
    "\n",
    "        bboxes.append({'img_path': img_path,\n",
    "                      'bbox': bbox})\n",
    "        cnt += 1"
   ]
  },
  {
   "cell_type": "code",
   "execution_count": 40,
   "metadata": {},
   "outputs": [
    {
     "data": {
      "text/plain": [
       "{'img_path': 'img/Sheer_Pleated-Front_Blouse/img_00000001.jpg',\n",
       " 'bbox': [72, 79, 232, 273]}"
      ]
     },
     "execution_count": 40,
     "metadata": {},
     "output_type": "execute_result"
    }
   ],
   "source": [
    "bboxes[0]"
   ]
  },
  {
   "cell_type": "code",
   "execution_count": 41,
   "metadata": {},
   "outputs": [
    {
     "name": "stdout",
     "output_type": "stream",
     "text": [
      "/media/jaeho/SSD/datasets/deepfashion/preprocessed_data/bboxes.pickle\n"
     ]
    }
   ],
   "source": [
    "with open(os.path.join(saved_dir, 'bboxes.pickle'), 'wb') as f:\n",
    "    pickle.dump(bboxes, f, pickle.HIGHEST_PROTOCOL)\n",
    "print(os.path.join(saved_dir, 'bboxes.pickle'))"
   ]
  },
  {
   "cell_type": "code",
   "execution_count": null,
   "metadata": {},
   "outputs": [],
   "source": []
  },
  {
   "cell_type": "markdown",
   "metadata": {},
   "source": [
    "# Landmark\n",
    "- column info\n",
    "    - image name\n",
    "    - clothes type\n",
    "        - 1 : upper_body\n",
    "            - 6개의 landmark\n",
    "        - 2 : lower_body\n",
    "            - 4개의 landmark\n",
    "        - 3 : fully_body\n",
    "            - 8개의 landmark\n",
    "    - variation type\n",
    "        - 1 : normal pose\n",
    "        - 2 : medium pose\n",
    "        - 3 : large pose\n",
    "        - 4 : medium zoom-in\n",
    "        - 5 : large zoom-in\n",
    "    - list of landmark info (1 to 8)\n",
    "        - landmark visibility\n",
    "            - 0 : visible\n",
    "            - 1 : invisible/occluded\n",
    "            - 2 : truncated/cut-off\n",
    "        - landmark location x\n",
    "        - landmark location y\n",
    "        \n",
    "---\n",
    "\n",
    "- upper-body clothes : [left_collar, right_collar, left_sleeve, right_sleeve, left_hem, right_hem]\n",
    "- lower-body clothes : [left_waistline, right_waistline, left_hem, right_hem]\n",
    "- fully-body clothes : [left_collar, right_collar, left_sleeve, right_sleeve, left_waistline, right_waistline, left_hem, right_hem]"
   ]
  },
  {
   "cell_type": "code",
   "execution_count": 42,
   "metadata": {},
   "outputs": [],
   "source": [
    "landmark_rule_dict = {\n",
    "    1 : ['left_collar', 'right_collar', 'left_sleeve', 'right_sleeve', 'left_hem', 'right_hem'],\n",
    "    2 : ['left_waistline', 'right_waistline', 'left_hem', 'right_hem '],\n",
    "    3 : ['left_collar', 'right_collar', 'left_sleeve', 'right_sleeve', 'left_waistline', 'right_waistline', 'left_hem', 'right_hem']\n",
    "}"
   ]
  },
  {
   "cell_type": "code",
   "execution_count": 43,
   "metadata": {
    "tags": []
   },
   "outputs": [
    {
     "name": "stdout",
     "output_type": "stream",
     "text": [
      "number of images : 289222\n"
     ]
    }
   ],
   "source": [
    "landmarks = []\n",
    "with open(landmark_path, 'r') as f:\n",
    "    cnt = 0\n",
    "    while True:\n",
    "        line = f.readline()\n",
    "        line = line.replace(\"\\n\", \"\")\n",
    "        if not line : break\n",
    "        if cnt < 2 :\n",
    "            if cnt == 0:\n",
    "                print(f\"number of images : {line}\")\n",
    "            # else :\n",
    "            #     print(line)\n",
    "            cnt += 1\n",
    "            continue\n",
    "\n",
    "        img_path, landmark = line.split('.jpg')\n",
    "        img_path += '.jpg'\n",
    "        # sys.exit(1)\n",
    "        \n",
    "        landmark = list(map(int, [x for x in landmark.split(' ') if x != '']))\n",
    "        clothes_type, landmark = landmark[0], landmark[1:]\n",
    "        landmark_dict = defaultdict(list)\n",
    "        for idx, value in enumerate(landmark):\n",
    "            landmark_dict[landmark_rule_dict[clothes_type][idx//3]].append(value)\n",
    "\n",
    "        landmarks.append({\n",
    "            'img_path' : img_path,\n",
    "            'clothes_type' : clothes_type,\n",
    "            'landmark' : landmark_dict\n",
    "        })\n",
    "\n",
    "        cnt += 1"
   ]
  },
  {
   "cell_type": "code",
   "execution_count": 44,
   "metadata": {},
   "outputs": [
    {
     "data": {
      "text/plain": [
       "[1,\n",
       " 99,\n",
       " 84,\n",
       " 1,\n",
       " 141,\n",
       " 82,\n",
       " 0,\n",
       " 59,\n",
       " 209,\n",
       " 0,\n",
       " 174,\n",
       " 198,\n",
       " 0,\n",
       " 82,\n",
       " 173,\n",
       " 0,\n",
       " 156,\n",
       " 168,\n",
       " 1,\n",
       " 75,\n",
       " 275,\n",
       " 0,\n",
       " 160,\n",
       " 271]"
      ]
     },
     "execution_count": 44,
     "metadata": {},
     "output_type": "execute_result"
    }
   ],
   "source": [
    "landmark"
   ]
  },
  {
   "cell_type": "code",
   "execution_count": null,
   "metadata": {},
   "outputs": [
    {
     "data": {
      "text/plain": [
       "{'img_path': 'img/Sheer_Pleated-Front_Blouse/img_00000001.jpg',\n",
       " 'clothes_type': 1,\n",
       " 'landmark': defaultdict(list,\n",
       "             {'left_collar': [0, 146, 102],\n",
       "              'right_collar': [0, 173, 95],\n",
       "              'left_sleeve': [0, 94, 242],\n",
       "              'right_sleeve': [0, 205, 255],\n",
       "              'left_hem': [0, 136, 229],\n",
       "              'right_hem': [0, 177, 232]})}"
      ]
     },
     "execution_count": 47,
     "metadata": {},
     "output_type": "execute_result"
    }
   ],
   "source": [
    "landmarks[0]"
   ]
  },
  {
   "cell_type": "code",
   "execution_count": null,
   "metadata": {},
   "outputs": [],
   "source": []
  },
  {
   "cell_type": "code",
   "execution_count": 46,
   "metadata": {},
   "outputs": [
    {
     "name": "stderr",
     "output_type": "stream",
     "text": [
      "  0%|          | 4/289222 [00:00<00:10, 28630.06it/s]"
     ]
    },
    {
     "name": "stdout",
     "output_type": "stream",
     "text": [
      "{'img_path': 'img/Sheer_Pleated-Front_Blouse/img_00000005.jpg', 'clothes_type': 1, 'landmark': defaultdict(<class 'list'>, {'left_collar': [1, 102, 106], 'right_collar': [0, 116, 102], 'left_sleeve': [0, 63, 194], 'right_sleeve': [1, 146, 216], 'left_hem': [0, 105, 245], 'right_hem': [0, 137, 246]})}\n",
      "\n",
      "left_collar [1, 102, 106]\n"
     ]
    },
    {
     "name": "stderr",
     "output_type": "stream",
     "text": [
      "\n"
     ]
    },
    {
     "ename": "SystemExit",
     "evalue": "1",
     "output_type": "error",
     "traceback": [
      "An exception has occurred, use %tb to see the full traceback.\n",
      "\u001b[0;31mSystemExit\u001b[0m\u001b[0;31m:\u001b[0m 1\n"
     ]
    },
    {
     "name": "stderr",
     "output_type": "stream",
     "text": [
      "/home/jaeho/anaconda3/envs/torch/lib/python3.7/site-packages/IPython/core/interactiveshell.py:3445: UserWarning: To exit: use 'exit', 'quit', or Ctrl-D.\n",
      "  warn(\"To exit: use 'exit', 'quit', or Ctrl-D.\", stacklevel=1)\n"
     ]
    }
   ],
   "source": [
    "for lm in tqdm(landmarks):\n",
    "    for landmark_name, landmark_value in lm['landmark'].items():\n",
    "        # print(landmark_name)\n",
    "        # print(landmark_value)\n",
    "        if landmark_value[0] != 0:\n",
    "            print(lm)\n",
    "            print()\n",
    "            print(landmark_name, landmark_value)\n",
    "            sys.exit(1)"
   ]
  },
  {
   "cell_type": "code",
   "execution_count": null,
   "metadata": {},
   "outputs": [
    {
     "data": {
      "text/plain": [
       "8"
      ]
     },
     "execution_count": 48,
     "metadata": {},
     "output_type": "execute_result"
    }
   ],
   "source": [
    "landmark_map = [\"left collar\", \"right collar\", \"left sleeve\", \"right sleeve\", \"left waistline\", \"right waistline\", \"left hem\", \"right hem\"]\n",
    "len(landmark_map)"
   ]
  },
  {
   "cell_type": "code",
   "execution_count": null,
   "metadata": {},
   "outputs": [],
   "source": []
  },
  {
   "cell_type": "code",
   "execution_count": null,
   "metadata": {},
   "outputs": [
    {
     "name": "stdout",
     "output_type": "stream",
     "text": [
      "/media/jaeho/SSD/datasets/deepfashion/preprocessed_data/landmarks.pickle\n"
     ]
    }
   ],
   "source": [
    "with open(os.path.join(saved_dir, 'landmarks.pickle'), 'wb') as f:\n",
    "    pickle.dump(landmarks, f, pickle.HIGHEST_PROTOCOL)\n",
    "print(os.path.join(saved_dir, 'landmarks.pickle'))"
   ]
  },
  {
   "cell_type": "code",
   "execution_count": null,
   "metadata": {},
   "outputs": [],
   "source": []
  },
  {
   "cell_type": "code",
   "execution_count": null,
   "metadata": {},
   "outputs": [],
   "source": []
  },
  {
   "cell_type": "markdown",
   "metadata": {},
   "source": [
    "# 이미지 확인\n",
    "- 이미지 정보를 dictionary형태로 만든다\n",
    "    ```python\n",
    "    {\n",
    "        'img_path' : {\n",
    "            \n",
    "        }\n",
    "    }\n",
    "    ```"
   ]
  },
  {
   "cell_type": "code",
   "execution_count": null,
   "metadata": {},
   "outputs": [
    {
     "data": {
      "text/plain": [
       "['attr_cloth.pickle',\n",
       " 'attr_img.pickle',\n",
       " 'bboxes.pickle',\n",
       " 'category_cloth.pickle',\n",
       " 'category_img.pickle',\n",
       " 'landmarks.pickle',\n",
       " 'preprocessed_data.pickle']"
      ]
     },
     "execution_count": 50,
     "metadata": {},
     "output_type": "execute_result"
    }
   ],
   "source": [
    "os.listdir('/media/jaeho/SSD/datasets/deepfashion/preprocessed_data/')"
   ]
  },
  {
   "cell_type": "code",
   "execution_count": null,
   "metadata": {},
   "outputs": [],
   "source": [
    "pickle_paths = glob('/media/jaeho/SSD/datasets/deepfashion/preprocessed_data/*')"
   ]
  },
  {
   "cell_type": "code",
   "execution_count": null,
   "metadata": {},
   "outputs": [],
   "source": [
    "map_paths = [x for x in pickle_paths if 'cloth' in x]\n",
    "img_data_paths = [x for x in pickle_paths if 'cloth' not in x]"
   ]
  },
  {
   "cell_type": "code",
   "execution_count": null,
   "metadata": {},
   "outputs": [
    {
     "data": {
      "text/plain": [
       "['/media/jaeho/SSD/datasets/deepfashion/preprocessed_data/attr_cloth.pickle',\n",
       " '/media/jaeho/SSD/datasets/deepfashion/preprocessed_data/category_cloth.pickle']"
      ]
     },
     "execution_count": 53,
     "metadata": {},
     "output_type": "execute_result"
    }
   ],
   "source": [
    "map_paths"
   ]
  },
  {
   "cell_type": "code",
   "execution_count": null,
   "metadata": {},
   "outputs": [
    {
     "data": {
      "text/plain": [
       "['/media/jaeho/SSD/datasets/deepfashion/preprocessed_data/attr_img.pickle',\n",
       " '/media/jaeho/SSD/datasets/deepfashion/preprocessed_data/bboxes.pickle',\n",
       " '/media/jaeho/SSD/datasets/deepfashion/preprocessed_data/category_img.pickle',\n",
       " '/media/jaeho/SSD/datasets/deepfashion/preprocessed_data/landmarks.pickle',\n",
       " '/media/jaeho/SSD/datasets/deepfashion/preprocessed_data/preprocessed_data.pickle']"
      ]
     },
     "execution_count": 54,
     "metadata": {},
     "output_type": "execute_result"
    }
   ],
   "source": [
    "img_data_paths"
   ]
  },
  {
   "cell_type": "code",
   "execution_count": 65,
   "metadata": {},
   "outputs": [
    {
     "name": "stdout",
     "output_type": "stream",
     "text": [
      "attr\n",
      "file opening...\n"
     ]
    },
    {
     "name": "stderr",
     "output_type": "stream",
     "text": [
      "100%|██████████| 289222/289222 [00:00<00:00, 550464.98it/s]\n"
     ]
    },
    {
     "name": "stdout",
     "output_type": "stream",
     "text": [
      "\n",
      "bboxes\n",
      "file opening...\n"
     ]
    },
    {
     "name": "stderr",
     "output_type": "stream",
     "text": [
      "100%|██████████| 289222/289222 [00:00<00:00, 1589457.37it/s]\n"
     ]
    },
    {
     "name": "stdout",
     "output_type": "stream",
     "text": [
      "\n",
      "category\n",
      "file opening...\n"
     ]
    },
    {
     "name": "stderr",
     "output_type": "stream",
     "text": [
      "100%|██████████| 289222/289222 [00:00<00:00, 1610213.58it/s]\n"
     ]
    },
    {
     "name": "stdout",
     "output_type": "stream",
     "text": [
      "\n",
      "landmarks\n",
      "file opening...\n"
     ]
    },
    {
     "name": "stderr",
     "output_type": "stream",
     "text": [
      "100%|██████████| 289222/289222 [00:00<00:00, 1335239.36it/s]"
     ]
    },
    {
     "name": "stdout",
     "output_type": "stream",
     "text": [
      "\n",
      "preprocessed\n"
     ]
    },
    {
     "name": "stderr",
     "output_type": "stream",
     "text": [
      "\n"
     ]
    }
   ],
   "source": [
    "total_img_dict = defaultdict(dict)\n",
    "\n",
    "for img_data_path in img_data_paths:\n",
    "    # print(os.path.basename(img_data_path))\n",
    "    print(os.path.basename(img_data_path).replace('.pickle','').split('_')[0])\n",
    "    task_name = os.path.basename(img_data_path).replace('.pickle','').split('_')[0]\n",
    "    if task_name == 'bboxes':\n",
    "        task_name = 'bbox'\n",
    "    elif task_name == 'landmarks':\n",
    "        task_name = 'landmark'\n",
    "    elif task_name == 'preprocessed':\n",
    "        continue\n",
    "    \n",
    "    print('file opening...')\n",
    "    with open(img_data_path, 'rb') as f:\n",
    "        datas = pickle.load(f)\n",
    "    \n",
    "    # collect datas\n",
    "    for data in tqdm(datas):\n",
    "        img_path = data['img_path']\n",
    "        for key, value in data.items():\n",
    "            if key == 'img_path':\n",
    "                continue\n",
    "            if task_name == 'landmark':\n",
    "                total_img_dict[img_path][task_name] = value\n",
    "            elif task_name in key:\n",
    "                total_img_dict[img_path][task_name] = value\n",
    "    print()"
   ]
  },
  {
   "cell_type": "code",
   "execution_count": null,
   "metadata": {
    "collapsed": true,
    "jupyter": {
     "outputs_hidden": true
    },
    "tags": []
   },
   "outputs": [
    {
     "name": "stdout",
     "output_type": "stream",
     "text": [
      "img/Sheer_Pleated-Front_Blouse/img_00000001.jpg\n",
      "{\n",
      "  \"attr\": [\n",
      "    -1,\n",
      "    -1,\n",
      "    -1,\n",
      "    -1,\n",
      "    -1,\n",
      "    -1,\n",
      "    -1,\n",
      "    -1,\n",
      "    -1,\n",
      "    -1,\n",
      "    -1,\n",
      "    -1,\n",
      "    -1,\n",
      "    -1,\n",
      "    -1,\n",
      "    -1,\n",
      "    -1,\n",
      "    -1,\n",
      "    -1,\n",
      "    -1,\n",
      "    -1,\n",
      "    -1,\n",
      "    -1,\n",
      "    -1,\n",
      "    -1,\n",
      "    -1,\n",
      "    -1,\n",
      "    -1,\n",
      "    -1,\n",
      "    -1,\n",
      "    -1,\n",
      "    -1,\n",
      "    -1,\n",
      "    -1,\n",
      "    -1,\n",
      "    -1,\n",
      "    -1,\n",
      "    -1,\n",
      "    -1,\n",
      "    -1,\n",
      "    -1,\n",
      "    -1,\n",
      "    -1,\n",
      "    -1,\n",
      "    -1,\n",
      "    -1,\n",
      "    -1,\n",
      "    -1,\n",
      "    -1,\n",
      "    -1,\n",
      "    -1,\n",
      "    -1,\n",
      "    -1,\n",
      "    -1,\n",
      "    -1,\n",
      "    -1,\n",
      "    -1,\n",
      "    -1,\n",
      "    -1,\n",
      "    -1,\n",
      "    -1,\n",
      "    -1,\n",
      "    -1,\n",
      "    -1,\n",
      "    -1,\n",
      "    -1,\n",
      "    -1,\n",
      "    -1,\n",
      "    -1,\n",
      "    -1,\n",
      "    -1,\n",
      "    -1,\n",
      "    -1,\n",
      "    -1,\n",
      "    -1,\n",
      "    -1,\n",
      "    -1,\n",
      "    -1,\n",
      "    -1,\n",
      "    -1,\n",
      "    -1,\n",
      "    -1,\n",
      "    -1,\n",
      "    -1,\n",
      "    -1,\n",
      "    -1,\n",
      "    -1,\n",
      "    -1,\n",
      "    -1,\n",
      "    -1,\n",
      "    -1,\n",
      "    -1,\n",
      "    -1,\n",
      "    -1,\n",
      "    -1,\n",
      "    -1,\n",
      "    -1,\n",
      "    -1,\n",
      "    -1,\n",
      "    -1,\n",
      "    -1,\n",
      "    -1,\n",
      "    -1,\n",
      "    -1,\n",
      "    -1,\n",
      "    -1,\n",
      "    -1,\n",
      "    -1,\n",
      "    -1,\n",
      "    -1,\n",
      "    -1,\n",
      "    -1,\n",
      "    -1,\n",
      "    -1,\n",
      "    -1,\n",
      "    -1,\n",
      "    -1,\n",
      "    -1,\n",
      "    -1,\n",
      "    -1,\n",
      "    -1,\n",
      "    -1,\n",
      "    -1,\n",
      "    -1,\n",
      "    -1,\n",
      "    -1,\n",
      "    -1,\n",
      "    -1,\n",
      "    -1,\n",
      "    -1,\n",
      "    -1,\n",
      "    -1,\n",
      "    -1,\n",
      "    -1,\n",
      "    -1,\n",
      "    -1,\n",
      "    -1,\n",
      "    -1,\n",
      "    -1,\n",
      "    -1,\n",
      "    -1,\n",
      "    -1,\n",
      "    -1,\n",
      "    -1,\n",
      "    -1,\n",
      "    -1,\n",
      "    -1,\n",
      "    -1,\n",
      "    -1,\n",
      "    -1,\n",
      "    -1,\n",
      "    -1,\n",
      "    -1,\n",
      "    -1,\n",
      "    -1,\n",
      "    -1,\n",
      "    -1,\n",
      "    -1,\n",
      "    -1,\n",
      "    -1,\n",
      "    -1,\n",
      "    -1,\n",
      "    -1,\n",
      "    -1,\n",
      "    -1,\n",
      "    -1,\n",
      "    -1,\n",
      "    -1,\n",
      "    -1,\n",
      "    -1,\n",
      "    -1,\n",
      "    -1,\n",
      "    -1,\n",
      "    -1,\n",
      "    -1,\n",
      "    -1,\n",
      "    -1,\n",
      "    -1,\n",
      "    -1,\n",
      "    -1,\n",
      "    -1,\n",
      "    -1,\n",
      "    -1,\n",
      "    -1,\n",
      "    -1,\n",
      "    -1,\n",
      "    -1,\n",
      "    -1,\n",
      "    -1,\n",
      "    -1,\n",
      "    -1,\n",
      "    -1,\n",
      "    -1,\n",
      "    -1,\n",
      "    -1,\n",
      "    -1,\n",
      "    -1,\n",
      "    -1,\n",
      "    -1,\n",
      "    -1,\n",
      "    -1,\n",
      "    -1,\n",
      "    -1,\n",
      "    -1,\n",
      "    -1,\n",
      "    -1,\n",
      "    -1,\n",
      "    -1,\n",
      "    -1,\n",
      "    -1,\n",
      "    -1,\n",
      "    -1,\n",
      "    -1,\n",
      "    -1,\n",
      "    -1,\n",
      "    -1,\n",
      "    -1,\n",
      "    -1,\n",
      "    -1,\n",
      "    -1,\n",
      "    -1,\n",
      "    -1,\n",
      "    -1,\n",
      "    -1,\n",
      "    -1,\n",
      "    -1,\n",
      "    -1,\n",
      "    -1,\n",
      "    -1,\n",
      "    -1,\n",
      "    -1,\n",
      "    -1,\n",
      "    -1,\n",
      "    -1,\n",
      "    -1,\n",
      "    -1,\n",
      "    -1,\n",
      "    -1,\n",
      "    -1,\n",
      "    -1,\n",
      "    -1,\n",
      "    -1,\n",
      "    -1,\n",
      "    -1,\n",
      "    -1,\n",
      "    -1,\n",
      "    -1,\n",
      "    -1,\n",
      "    -1,\n",
      "    -1,\n",
      "    -1,\n",
      "    -1,\n",
      "    -1,\n",
      "    -1,\n",
      "    -1,\n",
      "    -1,\n",
      "    -1,\n",
      "    -1,\n",
      "    -1,\n",
      "    -1,\n",
      "    -1,\n",
      "    -1,\n",
      "    -1,\n",
      "    -1,\n",
      "    -1,\n",
      "    -1,\n",
      "    -1,\n",
      "    -1,\n",
      "    -1,\n",
      "    -1,\n",
      "    -1,\n",
      "    -1,\n",
      "    -1,\n",
      "    -1,\n",
      "    -1,\n",
      "    -1,\n",
      "    -1,\n",
      "    -1,\n",
      "    -1,\n",
      "    -1,\n",
      "    -1,\n",
      "    -1,\n",
      "    -1,\n",
      "    -1,\n",
      "    -1,\n",
      "    -1,\n",
      "    -1,\n",
      "    -1,\n",
      "    -1,\n",
      "    -1,\n",
      "    -1,\n",
      "    -1,\n",
      "    -1,\n",
      "    -1,\n",
      "    -1,\n",
      "    -1,\n",
      "    -1,\n",
      "    -1,\n",
      "    -1,\n",
      "    -1,\n",
      "    -1,\n",
      "    -1,\n",
      "    -1,\n",
      "    -1,\n",
      "    -1,\n",
      "    -1,\n",
      "    -1,\n",
      "    -1,\n",
      "    -1,\n",
      "    -1,\n",
      "    -1,\n",
      "    -1,\n",
      "    -1,\n",
      "    -1,\n",
      "    -1,\n",
      "    -1,\n",
      "    -1,\n",
      "    -1,\n",
      "    -1,\n",
      "    -1,\n",
      "    -1,\n",
      "    -1,\n",
      "    -1,\n",
      "    -1,\n",
      "    -1,\n",
      "    -1,\n",
      "    -1,\n",
      "    -1,\n",
      "    -1,\n",
      "    -1,\n",
      "    -1,\n",
      "    -1,\n",
      "    -1,\n",
      "    -1,\n",
      "    -1,\n",
      "    -1,\n",
      "    -1,\n",
      "    -1,\n",
      "    -1,\n",
      "    -1,\n",
      "    -1,\n",
      "    -1,\n",
      "    -1,\n",
      "    -1,\n",
      "    -1,\n",
      "    -1,\n",
      "    -1,\n",
      "    -1,\n",
      "    -1,\n",
      "    -1,\n",
      "    -1,\n",
      "    -1,\n",
      "    -1,\n",
      "    -1,\n",
      "    -1,\n",
      "    -1,\n",
      "    -1,\n",
      "    -1,\n",
      "    -1,\n",
      "    -1,\n",
      "    -1,\n",
      "    -1,\n",
      "    -1,\n",
      "    -1,\n",
      "    -1,\n",
      "    -1,\n",
      "    -1,\n",
      "    -1,\n",
      "    -1,\n",
      "    -1,\n",
      "    -1,\n",
      "    -1,\n",
      "    -1,\n",
      "    -1,\n",
      "    -1,\n",
      "    -1,\n",
      "    -1,\n",
      "    -1,\n",
      "    -1,\n",
      "    -1,\n",
      "    -1,\n",
      "    -1,\n",
      "    -1,\n",
      "    -1,\n",
      "    -1,\n",
      "    -1,\n",
      "    -1,\n",
      "    -1,\n",
      "    -1,\n",
      "    -1,\n",
      "    -1,\n",
      "    -1,\n",
      "    -1,\n",
      "    -1,\n",
      "    -1,\n",
      "    -1,\n",
      "    -1,\n",
      "    -1,\n",
      "    -1,\n",
      "    -1,\n",
      "    -1,\n",
      "    -1,\n",
      "    -1,\n",
      "    -1,\n",
      "    -1,\n",
      "    -1,\n",
      "    -1,\n",
      "    -1,\n",
      "    -1,\n",
      "    -1,\n",
      "    -1,\n",
      "    -1,\n",
      "    -1,\n",
      "    -1,\n",
      "    -1,\n",
      "    -1,\n",
      "    -1,\n",
      "    -1,\n",
      "    -1,\n",
      "    -1,\n",
      "    -1,\n",
      "    -1,\n",
      "    -1,\n",
      "    -1,\n",
      "    -1,\n",
      "    -1,\n",
      "    -1,\n",
      "    -1,\n",
      "    -1,\n",
      "    -1,\n",
      "    -1,\n",
      "    -1,\n",
      "    -1,\n",
      "    -1,\n",
      "    -1,\n",
      "    -1,\n",
      "    -1,\n",
      "    -1,\n",
      "    -1,\n",
      "    -1,\n",
      "    -1,\n",
      "    -1,\n",
      "    -1,\n",
      "    -1,\n",
      "    -1,\n",
      "    -1,\n",
      "    -1,\n",
      "    -1,\n",
      "    -1,\n",
      "    -1,\n",
      "    -1,\n",
      "    -1,\n",
      "    -1,\n",
      "    -1,\n",
      "    -1,\n",
      "    -1,\n",
      "    -1,\n",
      "    -1,\n",
      "    -1,\n",
      "    -1,\n",
      "    -1,\n",
      "    -1,\n",
      "    -1,\n",
      "    -1,\n",
      "    -1,\n",
      "    -1,\n",
      "    -1,\n",
      "    -1,\n",
      "    -1,\n",
      "    -1,\n",
      "    -1,\n",
      "    -1,\n",
      "    -1,\n",
      "    -1,\n",
      "    -1,\n",
      "    -1,\n",
      "    -1,\n",
      "    -1,\n",
      "    -1,\n",
      "    -1,\n",
      "    -1,\n",
      "    -1,\n",
      "    -1,\n",
      "    -1,\n",
      "    -1,\n",
      "    -1,\n",
      "    -1,\n",
      "    -1,\n",
      "    -1,\n",
      "    -1,\n",
      "    -1,\n",
      "    -1,\n",
      "    -1,\n",
      "    -1,\n",
      "    -1,\n",
      "    -1,\n",
      "    -1,\n",
      "    -1,\n",
      "    -1,\n",
      "    -1,\n",
      "    -1,\n",
      "    -1,\n",
      "    -1,\n",
      "    -1,\n",
      "    -1,\n",
      "    -1,\n",
      "    -1,\n",
      "    -1,\n",
      "    -1,\n",
      "    -1,\n",
      "    -1,\n",
      "    -1,\n",
      "    -1,\n",
      "    -1,\n",
      "    -1,\n",
      "    -1,\n",
      "    -1,\n",
      "    -1,\n",
      "    -1,\n",
      "    -1,\n",
      "    -1,\n",
      "    -1,\n",
      "    -1,\n",
      "    -1,\n",
      "    -1,\n",
      "    -1,\n",
      "    -1,\n",
      "    -1,\n",
      "    -1,\n",
      "    -1,\n",
      "    -1,\n",
      "    -1,\n",
      "    -1,\n",
      "    -1,\n",
      "    -1,\n",
      "    -1,\n",
      "    -1,\n",
      "    -1,\n",
      "    -1,\n",
      "    -1,\n",
      "    -1,\n",
      "    -1,\n",
      "    -1,\n",
      "    -1,\n",
      "    -1,\n",
      "    -1,\n",
      "    -1,\n",
      "    -1,\n",
      "    -1,\n",
      "    -1,\n",
      "    -1,\n",
      "    -1,\n",
      "    -1,\n",
      "    -1,\n",
      "    -1,\n",
      "    -1,\n",
      "    -1,\n",
      "    -1,\n",
      "    -1,\n",
      "    -1,\n",
      "    -1,\n",
      "    -1,\n",
      "    -1,\n",
      "    -1,\n",
      "    -1,\n",
      "    -1,\n",
      "    -1,\n",
      "    -1,\n",
      "    -1,\n",
      "    -1,\n",
      "    -1,\n",
      "    -1,\n",
      "    -1,\n",
      "    -1,\n",
      "    -1,\n",
      "    -1,\n",
      "    -1,\n",
      "    -1,\n",
      "    -1,\n",
      "    -1,\n",
      "    -1,\n",
      "    -1,\n",
      "    -1,\n",
      "    -1,\n",
      "    -1,\n",
      "    -1,\n",
      "    -1,\n",
      "    -1,\n",
      "    -1,\n",
      "    -1,\n",
      "    -1,\n",
      "    -1,\n",
      "    -1,\n",
      "    -1,\n",
      "    -1,\n",
      "    -1,\n",
      "    -1,\n",
      "    -1,\n",
      "    -1,\n",
      "    -1,\n",
      "    -1,\n",
      "    -1,\n",
      "    -1,\n",
      "    -1,\n",
      "    -1,\n",
      "    -1,\n",
      "    -1,\n",
      "    -1,\n",
      "    -1,\n",
      "    -1,\n",
      "    -1,\n",
      "    -1,\n",
      "    -1,\n",
      "    -1,\n",
      "    -1,\n",
      "    -1,\n",
      "    -1,\n",
      "    -1,\n",
      "    -1,\n",
      "    -1,\n",
      "    -1,\n",
      "    -1,\n",
      "    -1,\n",
      "    -1,\n",
      "    -1,\n",
      "    -1,\n",
      "    -1,\n",
      "    -1,\n",
      "    -1,\n",
      "    -1,\n",
      "    -1,\n",
      "    -1,\n",
      "    -1,\n",
      "    -1,\n",
      "    -1,\n",
      "    -1,\n",
      "    -1,\n",
      "    -1,\n",
      "    -1,\n",
      "    -1,\n",
      "    -1,\n",
      "    -1,\n",
      "    -1,\n",
      "    -1,\n",
      "    -1,\n",
      "    -1,\n",
      "    -1,\n",
      "    -1,\n",
      "    -1,\n",
      "    -1,\n",
      "    -1,\n",
      "    -1,\n",
      "    -1,\n",
      "    -1,\n",
      "    -1,\n",
      "    -1,\n",
      "    -1,\n",
      "    -1,\n",
      "    -1,\n",
      "    -1,\n",
      "    -1,\n",
      "    -1,\n",
      "    -1,\n",
      "    -1,\n",
      "    -1,\n",
      "    -1,\n",
      "    -1,\n",
      "    -1,\n",
      "    -1,\n",
      "    -1,\n",
      "    -1,\n",
      "    -1,\n",
      "    -1,\n",
      "    -1,\n",
      "    -1,\n",
      "    -1,\n",
      "    -1,\n",
      "    -1,\n",
      "    -1,\n",
      "    -1,\n",
      "    -1,\n",
      "    -1,\n",
      "    -1,\n",
      "    -1,\n",
      "    -1,\n",
      "    -1,\n",
      "    -1,\n",
      "    -1,\n",
      "    -1,\n",
      "    -1,\n",
      "    -1,\n",
      "    -1,\n",
      "    -1,\n",
      "    -1,\n",
      "    -1,\n",
      "    -1,\n",
      "    -1,\n",
      "    -1,\n",
      "    -1,\n",
      "    -1,\n",
      "    -1,\n",
      "    -1,\n",
      "    -1,\n",
      "    -1,\n",
      "    -1,\n",
      "    -1,\n",
      "    -1,\n",
      "    -1,\n",
      "    -1,\n",
      "    -1,\n",
      "    -1,\n",
      "    -1,\n",
      "    -1,\n",
      "    -1,\n",
      "    -1,\n",
      "    -1,\n",
      "    -1,\n",
      "    1,\n",
      "    -1,\n",
      "    -1,\n",
      "    -1,\n",
      "    -1,\n",
      "    -1,\n",
      "    -1,\n",
      "    -1,\n",
      "    -1,\n",
      "    -1,\n",
      "    -1,\n",
      "    -1,\n",
      "    -1,\n",
      "    -1,\n",
      "    -1,\n",
      "    -1,\n",
      "    -1,\n",
      "    -1,\n",
      "    -1,\n",
      "    -1,\n",
      "    -1,\n",
      "    -1,\n",
      "    -1,\n",
      "    -1,\n",
      "    -1,\n",
      "    -1,\n",
      "    -1,\n",
      "    -1,\n",
      "    -1,\n",
      "    -1,\n",
      "    -1,\n",
      "    -1,\n",
      "    -1,\n",
      "    -1,\n",
      "    -1,\n",
      "    -1,\n",
      "    -1,\n",
      "    -1,\n",
      "    -1,\n",
      "    -1,\n",
      "    -1,\n",
      "    -1,\n",
      "    -1,\n",
      "    -1,\n",
      "    -1,\n",
      "    -1,\n",
      "    -1,\n",
      "    -1,\n",
      "    -1,\n",
      "    -1,\n",
      "    -1,\n",
      "    -1,\n",
      "    -1,\n",
      "    -1,\n",
      "    -1,\n",
      "    -1,\n",
      "    -1,\n",
      "    -1,\n",
      "    -1,\n",
      "    -1,\n",
      "    -1,\n",
      "    -1,\n",
      "    -1,\n",
      "    -1,\n",
      "    -1,\n",
      "    -1,\n",
      "    -1,\n",
      "    -1,\n",
      "    -1,\n",
      "    -1,\n",
      "    -1,\n",
      "    -1,\n",
      "    -1,\n",
      "    -1,\n",
      "    -1,\n",
      "    -1,\n",
      "    -1,\n",
      "    -1,\n",
      "    -1,\n",
      "    -1,\n",
      "    -1,\n",
      "    -1,\n",
      "    -1,\n",
      "    -1,\n",
      "    -1,\n",
      "    -1,\n",
      "    -1,\n",
      "    -1,\n",
      "    -1,\n",
      "    -1,\n",
      "    -1,\n",
      "    -1,\n",
      "    -1,\n",
      "    -1,\n",
      "    -1,\n",
      "    -1,\n",
      "    -1,\n",
      "    -1,\n",
      "    -1,\n",
      "    -1,\n",
      "    -1,\n",
      "    1,\n",
      "    -1,\n",
      "    -1,\n",
      "    -1,\n",
      "    -1,\n",
      "    -1,\n",
      "    -1,\n",
      "    -1,\n",
      "    -1,\n",
      "    -1,\n",
      "    -1,\n",
      "    -1,\n",
      "    -1,\n",
      "    -1,\n",
      "    -1,\n",
      "    -1,\n",
      "    -1,\n",
      "    -1,\n",
      "    -1,\n",
      "    -1,\n",
      "    -1,\n",
      "    -1,\n",
      "    -1,\n",
      "    -1,\n",
      "    -1,\n",
      "    -1,\n",
      "    -1,\n",
      "    -1,\n",
      "    -1,\n",
      "    -1,\n",
      "    -1,\n",
      "    -1,\n",
      "    -1,\n",
      "    -1,\n",
      "    -1,\n",
      "    -1,\n",
      "    -1,\n",
      "    -1,\n",
      "    -1,\n",
      "    -1,\n",
      "    -1,\n",
      "    -1,\n",
      "    -1,\n",
      "    -1,\n",
      "    -1,\n",
      "    -1,\n",
      "    -1,\n",
      "    -1,\n",
      "    -1,\n",
      "    -1,\n",
      "    -1,\n",
      "    -1,\n",
      "    -1,\n",
      "    -1,\n",
      "    -1,\n",
      "    -1,\n",
      "    -1,\n",
      "    -1,\n",
      "    -1,\n",
      "    -1,\n",
      "    -1,\n",
      "    -1,\n",
      "    -1,\n",
      "    -1,\n",
      "    -1,\n",
      "    -1,\n",
      "    -1,\n",
      "    -1,\n",
      "    -1,\n",
      "    -1,\n",
      "    -1,\n",
      "    -1,\n",
      "    -1,\n",
      "    -1,\n",
      "    -1,\n",
      "    -1,\n",
      "    -1,\n",
      "    -1,\n",
      "    -1,\n",
      "    -1,\n",
      "    -1,\n",
      "    -1,\n",
      "    -1,\n",
      "    -1,\n",
      "    -1,\n",
      "    -1,\n",
      "    -1,\n",
      "    -1,\n",
      "    -1,\n",
      "    -1,\n",
      "    -1,\n",
      "    -1,\n",
      "    -1,\n",
      "    -1,\n",
      "    -1,\n",
      "    -1,\n",
      "    -1,\n",
      "    -1,\n",
      "    -1,\n",
      "    -1,\n",
      "    -1,\n",
      "    -1,\n",
      "    -1,\n",
      "    -1,\n",
      "    -1,\n",
      "    -1,\n",
      "    -1,\n",
      "    -1,\n",
      "    -1,\n",
      "    -1,\n",
      "    -1,\n",
      "    -1,\n",
      "    -1,\n",
      "    -1,\n",
      "    -1,\n",
      "    -1,\n",
      "    -1,\n",
      "    -1,\n",
      "    -1,\n",
      "    -1,\n",
      "    -1,\n",
      "    -1,\n",
      "    -1,\n",
      "    -1,\n",
      "    -1,\n",
      "    -1,\n",
      "    -1,\n",
      "    -1,\n",
      "    -1,\n",
      "    -1,\n",
      "    -1,\n",
      "    -1,\n",
      "    -1,\n",
      "    -1,\n",
      "    -1,\n",
      "    -1,\n",
      "    -1,\n",
      "    -1,\n",
      "    -1,\n",
      "    -1,\n",
      "    -1,\n",
      "    -1,\n",
      "    -1,\n",
      "    -1,\n",
      "    -1,\n",
      "    -1,\n",
      "    -1,\n",
      "    -1,\n",
      "    -1,\n",
      "    -1,\n",
      "    -1,\n",
      "    -1,\n",
      "    -1,\n",
      "    -1,\n",
      "    -1,\n",
      "    -1,\n",
      "    -1,\n",
      "    -1,\n",
      "    -1,\n",
      "    -1,\n",
      "    -1,\n",
      "    -1,\n",
      "    -1,\n",
      "    -1,\n",
      "    -1,\n",
      "    -1,\n",
      "    -1,\n",
      "    -1,\n",
      "    -1,\n",
      "    -1,\n",
      "    -1,\n",
      "    -1,\n",
      "    -1,\n",
      "    -1,\n",
      "    -1,\n",
      "    -1,\n",
      "    -1,\n",
      "    -1,\n",
      "    -1,\n",
      "    -1,\n",
      "    -1,\n",
      "    -1\n",
      "  ],\n",
      "  \"bbox\": [\n",
      "    72,\n",
      "    79,\n",
      "    232,\n",
      "    273\n",
      "  ],\n",
      "  \"category\": [\n",
      "    2\n",
      "  ]\n",
      "}\n"
     ]
    }
   ],
   "source": [
    "for img_path, img_info in total_img_dict.items():\n",
    "    print(img_path)\n",
    "    print(json.dumps(img_info, indent=2))\n",
    "    break"
   ]
  },
  {
   "cell_type": "code",
   "execution_count": 66,
   "metadata": {},
   "outputs": [
    {
     "name": "stdout",
     "output_type": "stream",
     "text": [
      "/media/jaeho/SSD/datasets/deepfashion/preprocessed_data/preprocessed_data.pickle\n"
     ]
    }
   ],
   "source": [
    "save_path = os.path.join(saved_dir, 'preprocessed_data.pickle')\n",
    "with open(save_path, 'wb') as f:\n",
    "    pickle.dump(total_img_dict, f, pickle.HIGHEST_PROTOCOL)\n",
    "print(save_path)"
   ]
  },
  {
   "cell_type": "code",
   "execution_count": 67,
   "metadata": {},
   "outputs": [],
   "source": [
    "import pickle\n",
    "from tqdm import tqdm\n",
    "from collections import defaultdict"
   ]
  },
  {
   "cell_type": "code",
   "execution_count": 68,
   "metadata": {},
   "outputs": [],
   "source": [
    "with open('/media/jaeho/SSD/datasets/deepfashion/preprocessed_data/preprocessed_data.pickle', 'rb') as f:\n",
    "    data = pickle.load(f)"
   ]
  },
  {
   "cell_type": "code",
   "execution_count": null,
   "metadata": {},
   "outputs": [],
   "source": []
  },
  {
   "cell_type": "code",
   "execution_count": 70,
   "metadata": {},
   "outputs": [
    {
     "name": "stderr",
     "output_type": "stream",
     "text": [
      "100%|██████████| 289222/289222 [00:00<00:00, 2827677.58it/s]\n"
     ]
    }
   ],
   "source": [
    "cnt_dict = defaultdict(int)\n",
    "for d, info in tqdm(data.items()):\n",
    "    cnt_dict[info['category'][0]] += 1"
   ]
  },
  {
   "cell_type": "code",
   "execution_count": 72,
   "metadata": {},
   "outputs": [
    {
     "data": {
      "text/plain": [
       "dict_keys(['attr', 'bbox', 'category', 'landmark'])"
      ]
     },
     "execution_count": 72,
     "metadata": {},
     "output_type": "execute_result"
    }
   ],
   "source": [
    "info.keys()"
   ]
  },
  {
   "cell_type": "code",
   "execution_count": 71,
   "metadata": {
    "collapsed": true,
    "jupyter": {
     "outputs_hidden": true
    },
    "tags": []
   },
   "outputs": [
    {
     "data": {
      "text/plain": [
       "{0: 160,\n",
       " 1: 7495,\n",
       " 2: 24557,\n",
       " 3: 309,\n",
       " 4: 330,\n",
       " 5: 13311,\n",
       " 6: 324,\n",
       " 7: 17,\n",
       " 8: 716,\n",
       " 9: 4048,\n",
       " 10: 10467,\n",
       " 11: 748,\n",
       " 12: 676,\n",
       " 13: 97,\n",
       " 14: 791,\n",
       " 15: 13123,\n",
       " 16: 15429,\n",
       " 17: 36887,\n",
       " 18: 10078,\n",
       " 19: 146,\n",
       " 20: 77,\n",
       " 21: 527,\n",
       " 22: 486,\n",
       " 23: 1669,\n",
       " 24: 49,\n",
       " 25: 7076,\n",
       " 26: 594,\n",
       " 27: 45,\n",
       " 28: 4416,\n",
       " 29: 5013,\n",
       " 30: 32,\n",
       " 31: 19666,\n",
       " 32: 14773,\n",
       " 33: 3048,\n",
       " 34: 1106,\n",
       " 35: 386,\n",
       " 36: 54,\n",
       " 38: 2120,\n",
       " 39: 17,\n",
       " 40: 72158,\n",
       " 41: 6153,\n",
       " 42: 126,\n",
       " 43: 2294,\n",
       " 45: 70,\n",
       " 46: 150,\n",
       " 47: 7408}"
      ]
     },
     "execution_count": 71,
     "metadata": {},
     "output_type": "execute_result"
    }
   ],
   "source": [
    "{key:value for key,value in sorted(cnt_dict.items(), key=lambda x : x[0])}"
   ]
  },
  {
   "cell_type": "code",
   "execution_count": null,
   "metadata": {},
   "outputs": [],
   "source": []
  }
 ],
 "metadata": {
  "kernelspec": {
   "display_name": "torch",
   "language": "python",
   "name": "torch"
  },
  "language_info": {
   "codemirror_mode": {
    "name": "ipython",
    "version": 3
   },
   "file_extension": ".py",
   "mimetype": "text/x-python",
   "name": "python",
   "nbconvert_exporter": "python",
   "pygments_lexer": "ipython3",
   "version": "3.7.10"
  }
 },
 "nbformat": 4,
 "nbformat_minor": 4
}
